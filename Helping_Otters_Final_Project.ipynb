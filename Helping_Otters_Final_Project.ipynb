{
  "nbformat": 4,
  "nbformat_minor": 0,
  "metadata": {
    "colab": {
      "name": "Helping_Otters_Final_Project.ipynb",
      "provenance": [],
      "collapsed_sections": [
        "YHx5jFwo1xF1"
      ]
    },
    "kernelspec": {
      "display_name": "Python 3",
      "language": "python",
      "name": "python3"
    },
    "language_info": {
      "codemirror_mode": {
        "name": "ipython",
        "version": 3
      },
      "file_extension": ".py",
      "mimetype": "text/x-python",
      "name": "python",
      "nbconvert_exporter": "python",
      "pygments_lexer": "ipython3",
      "version": "3.8.5"
    }
  },
  "cells": [
    {
      "cell_type": "markdown",
      "metadata": {
        "id": "Eg5k_RUITC6c"
      },
      "source": [
        "Title: My Achey-Breaky Heart<br>\n",
        "Authors: Ricardo Barbosa, Max Halbert, Lindsey Reynolds, and Dan Sedano <br>"
      ]
    },
    {
      "cell_type": "markdown",
      "metadata": {
        "id": "YHx5jFwo1xF1"
      },
      "source": [
        "#Project Specifications\n",
        "\n",
        "### Research Question\n",
        "\n",
        "What is the percent likelihood of someone dying from cardiovascular disease based on specific high impact risk factors?\n",
        "\n",
        "### Hypothesis \n",
        "\n",
        "Based on initial raw data visualization (specifically a heatmap), we hypothesize that high levels of serum creatinine, age, ejection fraction, and serum sodium will increase the liklihood of cardiovascular disease. \n",
        "\n",
        "### Data Set\n",
        "\n",
        "https://raw.githubusercontent.com/HelpingOtters/CST383_DS_Project/main/heart_failure_clinical_records_dataset.csv\n",
        "\n",
        "### Description of Data Set\n",
        "- The source of our dataset is the University of California, Irvine. \n",
        "- Our data includes 299 clinical records, including 13 medical features relating to heart disease.\n",
        "- Our data has no N/A values.\n",
        "- The dataset documentation noted that the feature of time was not a reliable feature to base our prediction off of.\n",
        "\n",
        "https://archive.ics.uci.edu/ml/datasets/Heart+failure+clinical+records\n",
        "\n",
        "### Features used in our final model\n",
        "\n",
        "Serum creatinine and ejection fraction\n",
        "\n",
        "### Machine Learning Model\n",
        "\n",
        "Classification Decision Tree"
      ]
    },
    {
      "cell_type": "markdown",
      "metadata": {
        "id": "4uUCOZnZUjE5"
      },
      "source": [
        "# Data Exploration"
      ]
    },
    {
      "cell_type": "code",
      "metadata": {
        "id": "dVgQGiNDLH6s"
      },
      "source": [
        "import pandas as pd\n",
        "import numpy as np\n",
        "import matplotlib.pyplot as plt\n",
        "import seaborn as sns\n",
        "\n",
        "from sklearn.model_selection import train_test_split\n",
        "from sklearn.preprocessing import StandardScaler\n",
        "from sklearn.tree import DecisionTreeClassifier, export_graphviz\n",
        "from sklearn.model_selection import cross_val_score\n",
        "import graphviz\n",
        "from sklearn.metrics import confusion_matrix\n",
        "from sklearn.model_selection import GridSearchCV\n",
        "\n",
        "sns.set(rc={'figure.figsize':(11.7,8.27)})\n",
        "random_seed = 0"
      ],
      "execution_count": 30,
      "outputs": []
    },
    {
      "cell_type": "code",
      "metadata": {
        "id": "40fXBNGoLMp1"
      },
      "source": [
        "df = pd.read_csv('https://raw.githubusercontent.com/HelpingOtters/CST383_DS_Project/main/heart_failure_clinical_records_dataset.csv')\n",
        "# Dropping time feature\n",
        "df.drop(columns='time', inplace=True)"
      ],
      "execution_count": 31,
      "outputs": []
    },
    {
      "cell_type": "code",
      "metadata": {
        "colab": {
          "base_uri": "https://localhost:8080/",
          "height": 195
        },
        "id": "GoT6fJU6LdAV",
        "outputId": "a8275270-047d-41d2-c5e2-8edff211a83a"
      },
      "source": [
        "df.head()"
      ],
      "execution_count": 32,
      "outputs": [
        {
          "output_type": "execute_result",
          "data": {
            "text/html": [
              "<div>\n",
              "<style scoped>\n",
              "    .dataframe tbody tr th:only-of-type {\n",
              "        vertical-align: middle;\n",
              "    }\n",
              "\n",
              "    .dataframe tbody tr th {\n",
              "        vertical-align: top;\n",
              "    }\n",
              "\n",
              "    .dataframe thead th {\n",
              "        text-align: right;\n",
              "    }\n",
              "</style>\n",
              "<table border=\"1\" class=\"dataframe\">\n",
              "  <thead>\n",
              "    <tr style=\"text-align: right;\">\n",
              "      <th></th>\n",
              "      <th>age</th>\n",
              "      <th>anaemia</th>\n",
              "      <th>creatinine_phosphokinase</th>\n",
              "      <th>diabetes</th>\n",
              "      <th>ejection_fraction</th>\n",
              "      <th>high_blood_pressure</th>\n",
              "      <th>platelets</th>\n",
              "      <th>serum_creatinine</th>\n",
              "      <th>serum_sodium</th>\n",
              "      <th>sex</th>\n",
              "      <th>smoking</th>\n",
              "      <th>DEATH_EVENT</th>\n",
              "    </tr>\n",
              "  </thead>\n",
              "  <tbody>\n",
              "    <tr>\n",
              "      <th>0</th>\n",
              "      <td>75.0</td>\n",
              "      <td>0</td>\n",
              "      <td>582</td>\n",
              "      <td>0</td>\n",
              "      <td>20</td>\n",
              "      <td>1</td>\n",
              "      <td>265000.00</td>\n",
              "      <td>1.9</td>\n",
              "      <td>130</td>\n",
              "      <td>1</td>\n",
              "      <td>0</td>\n",
              "      <td>1</td>\n",
              "    </tr>\n",
              "    <tr>\n",
              "      <th>1</th>\n",
              "      <td>55.0</td>\n",
              "      <td>0</td>\n",
              "      <td>7861</td>\n",
              "      <td>0</td>\n",
              "      <td>38</td>\n",
              "      <td>0</td>\n",
              "      <td>263358.03</td>\n",
              "      <td>1.1</td>\n",
              "      <td>136</td>\n",
              "      <td>1</td>\n",
              "      <td>0</td>\n",
              "      <td>1</td>\n",
              "    </tr>\n",
              "    <tr>\n",
              "      <th>2</th>\n",
              "      <td>65.0</td>\n",
              "      <td>0</td>\n",
              "      <td>146</td>\n",
              "      <td>0</td>\n",
              "      <td>20</td>\n",
              "      <td>0</td>\n",
              "      <td>162000.00</td>\n",
              "      <td>1.3</td>\n",
              "      <td>129</td>\n",
              "      <td>1</td>\n",
              "      <td>1</td>\n",
              "      <td>1</td>\n",
              "    </tr>\n",
              "    <tr>\n",
              "      <th>3</th>\n",
              "      <td>50.0</td>\n",
              "      <td>1</td>\n",
              "      <td>111</td>\n",
              "      <td>0</td>\n",
              "      <td>20</td>\n",
              "      <td>0</td>\n",
              "      <td>210000.00</td>\n",
              "      <td>1.9</td>\n",
              "      <td>137</td>\n",
              "      <td>1</td>\n",
              "      <td>0</td>\n",
              "      <td>1</td>\n",
              "    </tr>\n",
              "    <tr>\n",
              "      <th>4</th>\n",
              "      <td>65.0</td>\n",
              "      <td>1</td>\n",
              "      <td>160</td>\n",
              "      <td>1</td>\n",
              "      <td>20</td>\n",
              "      <td>0</td>\n",
              "      <td>327000.00</td>\n",
              "      <td>2.7</td>\n",
              "      <td>116</td>\n",
              "      <td>0</td>\n",
              "      <td>0</td>\n",
              "      <td>1</td>\n",
              "    </tr>\n",
              "  </tbody>\n",
              "</table>\n",
              "</div>"
            ],
            "text/plain": [
              "    age  anaemia  creatinine_phosphokinase  ...  sex  smoking  DEATH_EVENT\n",
              "0  75.0        0                       582  ...    1        0            1\n",
              "1  55.0        0                      7861  ...    1        0            1\n",
              "2  65.0        0                       146  ...    1        1            1\n",
              "3  50.0        1                       111  ...    1        0            1\n",
              "4  65.0        1                       160  ...    0        0            1\n",
              "\n",
              "[5 rows x 12 columns]"
            ]
          },
          "metadata": {
            "tags": []
          },
          "execution_count": 32
        }
      ]
    },
    {
      "cell_type": "code",
      "metadata": {
        "colab": {
          "base_uri": "https://localhost:8080/"
        },
        "id": "YgWyVzK_NjnO",
        "outputId": "af2e45bf-6c90-4496-924b-714be1e15d26"
      },
      "source": [
        "df.info()"
      ],
      "execution_count": 33,
      "outputs": [
        {
          "output_type": "stream",
          "text": [
            "<class 'pandas.core.frame.DataFrame'>\n",
            "RangeIndex: 299 entries, 0 to 298\n",
            "Data columns (total 12 columns):\n",
            " #   Column                    Non-Null Count  Dtype  \n",
            "---  ------                    --------------  -----  \n",
            " 0   age                       299 non-null    float64\n",
            " 1   anaemia                   299 non-null    int64  \n",
            " 2   creatinine_phosphokinase  299 non-null    int64  \n",
            " 3   diabetes                  299 non-null    int64  \n",
            " 4   ejection_fraction         299 non-null    int64  \n",
            " 5   high_blood_pressure       299 non-null    int64  \n",
            " 6   platelets                 299 non-null    float64\n",
            " 7   serum_creatinine          299 non-null    float64\n",
            " 8   serum_sodium              299 non-null    int64  \n",
            " 9   sex                       299 non-null    int64  \n",
            " 10  smoking                   299 non-null    int64  \n",
            " 11  DEATH_EVENT               299 non-null    int64  \n",
            "dtypes: float64(3), int64(9)\n",
            "memory usage: 28.2 KB\n"
          ],
          "name": "stdout"
        }
      ]
    },
    {
      "cell_type": "markdown",
      "metadata": {
        "id": "xJ7gO3TLEZte"
      },
      "source": [
        "There is no missing data and all the values of the dataset are numeric, the dataset is ready to explore and put into the Decision Tree Model. \r\n",
        "\r\n",
        "---\r\n",
        "\r\n"
      ]
    },
    {
      "cell_type": "code",
      "metadata": {
        "colab": {
          "base_uri": "https://localhost:8080/",
          "height": 284
        },
        "id": "EpAbos-UNk_g",
        "outputId": "289d1ae9-fd47-488f-ace4-61c03e91ffb4"
      },
      "source": [
        "df.describe()"
      ],
      "execution_count": 34,
      "outputs": [
        {
          "output_type": "execute_result",
          "data": {
            "text/html": [
              "<div>\n",
              "<style scoped>\n",
              "    .dataframe tbody tr th:only-of-type {\n",
              "        vertical-align: middle;\n",
              "    }\n",
              "\n",
              "    .dataframe tbody tr th {\n",
              "        vertical-align: top;\n",
              "    }\n",
              "\n",
              "    .dataframe thead th {\n",
              "        text-align: right;\n",
              "    }\n",
              "</style>\n",
              "<table border=\"1\" class=\"dataframe\">\n",
              "  <thead>\n",
              "    <tr style=\"text-align: right;\">\n",
              "      <th></th>\n",
              "      <th>age</th>\n",
              "      <th>anaemia</th>\n",
              "      <th>creatinine_phosphokinase</th>\n",
              "      <th>diabetes</th>\n",
              "      <th>ejection_fraction</th>\n",
              "      <th>high_blood_pressure</th>\n",
              "      <th>platelets</th>\n",
              "      <th>serum_creatinine</th>\n",
              "      <th>serum_sodium</th>\n",
              "      <th>sex</th>\n",
              "      <th>smoking</th>\n",
              "      <th>DEATH_EVENT</th>\n",
              "    </tr>\n",
              "  </thead>\n",
              "  <tbody>\n",
              "    <tr>\n",
              "      <th>count</th>\n",
              "      <td>299.000000</td>\n",
              "      <td>299.000000</td>\n",
              "      <td>299.000000</td>\n",
              "      <td>299.000000</td>\n",
              "      <td>299.000000</td>\n",
              "      <td>299.000000</td>\n",
              "      <td>299.000000</td>\n",
              "      <td>299.00000</td>\n",
              "      <td>299.000000</td>\n",
              "      <td>299.000000</td>\n",
              "      <td>299.00000</td>\n",
              "      <td>299.00000</td>\n",
              "    </tr>\n",
              "    <tr>\n",
              "      <th>mean</th>\n",
              "      <td>60.833893</td>\n",
              "      <td>0.431438</td>\n",
              "      <td>581.839465</td>\n",
              "      <td>0.418060</td>\n",
              "      <td>38.083612</td>\n",
              "      <td>0.351171</td>\n",
              "      <td>263358.029264</td>\n",
              "      <td>1.39388</td>\n",
              "      <td>136.625418</td>\n",
              "      <td>0.648829</td>\n",
              "      <td>0.32107</td>\n",
              "      <td>0.32107</td>\n",
              "    </tr>\n",
              "    <tr>\n",
              "      <th>std</th>\n",
              "      <td>11.894809</td>\n",
              "      <td>0.496107</td>\n",
              "      <td>970.287881</td>\n",
              "      <td>0.494067</td>\n",
              "      <td>11.834841</td>\n",
              "      <td>0.478136</td>\n",
              "      <td>97804.236869</td>\n",
              "      <td>1.03451</td>\n",
              "      <td>4.412477</td>\n",
              "      <td>0.478136</td>\n",
              "      <td>0.46767</td>\n",
              "      <td>0.46767</td>\n",
              "    </tr>\n",
              "    <tr>\n",
              "      <th>min</th>\n",
              "      <td>40.000000</td>\n",
              "      <td>0.000000</td>\n",
              "      <td>23.000000</td>\n",
              "      <td>0.000000</td>\n",
              "      <td>14.000000</td>\n",
              "      <td>0.000000</td>\n",
              "      <td>25100.000000</td>\n",
              "      <td>0.50000</td>\n",
              "      <td>113.000000</td>\n",
              "      <td>0.000000</td>\n",
              "      <td>0.00000</td>\n",
              "      <td>0.00000</td>\n",
              "    </tr>\n",
              "    <tr>\n",
              "      <th>25%</th>\n",
              "      <td>51.000000</td>\n",
              "      <td>0.000000</td>\n",
              "      <td>116.500000</td>\n",
              "      <td>0.000000</td>\n",
              "      <td>30.000000</td>\n",
              "      <td>0.000000</td>\n",
              "      <td>212500.000000</td>\n",
              "      <td>0.90000</td>\n",
              "      <td>134.000000</td>\n",
              "      <td>0.000000</td>\n",
              "      <td>0.00000</td>\n",
              "      <td>0.00000</td>\n",
              "    </tr>\n",
              "    <tr>\n",
              "      <th>50%</th>\n",
              "      <td>60.000000</td>\n",
              "      <td>0.000000</td>\n",
              "      <td>250.000000</td>\n",
              "      <td>0.000000</td>\n",
              "      <td>38.000000</td>\n",
              "      <td>0.000000</td>\n",
              "      <td>262000.000000</td>\n",
              "      <td>1.10000</td>\n",
              "      <td>137.000000</td>\n",
              "      <td>1.000000</td>\n",
              "      <td>0.00000</td>\n",
              "      <td>0.00000</td>\n",
              "    </tr>\n",
              "    <tr>\n",
              "      <th>75%</th>\n",
              "      <td>70.000000</td>\n",
              "      <td>1.000000</td>\n",
              "      <td>582.000000</td>\n",
              "      <td>1.000000</td>\n",
              "      <td>45.000000</td>\n",
              "      <td>1.000000</td>\n",
              "      <td>303500.000000</td>\n",
              "      <td>1.40000</td>\n",
              "      <td>140.000000</td>\n",
              "      <td>1.000000</td>\n",
              "      <td>1.00000</td>\n",
              "      <td>1.00000</td>\n",
              "    </tr>\n",
              "    <tr>\n",
              "      <th>max</th>\n",
              "      <td>95.000000</td>\n",
              "      <td>1.000000</td>\n",
              "      <td>7861.000000</td>\n",
              "      <td>1.000000</td>\n",
              "      <td>80.000000</td>\n",
              "      <td>1.000000</td>\n",
              "      <td>850000.000000</td>\n",
              "      <td>9.40000</td>\n",
              "      <td>148.000000</td>\n",
              "      <td>1.000000</td>\n",
              "      <td>1.00000</td>\n",
              "      <td>1.00000</td>\n",
              "    </tr>\n",
              "  </tbody>\n",
              "</table>\n",
              "</div>"
            ],
            "text/plain": [
              "              age     anaemia  ...    smoking  DEATH_EVENT\n",
              "count  299.000000  299.000000  ...  299.00000    299.00000\n",
              "mean    60.833893    0.431438  ...    0.32107      0.32107\n",
              "std     11.894809    0.496107  ...    0.46767      0.46767\n",
              "min     40.000000    0.000000  ...    0.00000      0.00000\n",
              "25%     51.000000    0.000000  ...    0.00000      0.00000\n",
              "50%     60.000000    0.000000  ...    0.00000      0.00000\n",
              "75%     70.000000    1.000000  ...    1.00000      1.00000\n",
              "max     95.000000    1.000000  ...    1.00000      1.00000\n",
              "\n",
              "[8 rows x 12 columns]"
            ]
          },
          "metadata": {
            "tags": []
          },
          "execution_count": 34
        }
      ]
    },
    {
      "cell_type": "code",
      "metadata": {
        "colab": {
          "base_uri": "https://localhost:8080/",
          "height": 402
        },
        "id": "gJ18a8RsNl8k",
        "outputId": "0949bfe1-af82-400e-808d-36dd6f0dfa04"
      },
      "source": [
        "df.corr()"
      ],
      "execution_count": 35,
      "outputs": [
        {
          "output_type": "execute_result",
          "data": {
            "text/html": [
              "<div>\n",
              "<style scoped>\n",
              "    .dataframe tbody tr th:only-of-type {\n",
              "        vertical-align: middle;\n",
              "    }\n",
              "\n",
              "    .dataframe tbody tr th {\n",
              "        vertical-align: top;\n",
              "    }\n",
              "\n",
              "    .dataframe thead th {\n",
              "        text-align: right;\n",
              "    }\n",
              "</style>\n",
              "<table border=\"1\" class=\"dataframe\">\n",
              "  <thead>\n",
              "    <tr style=\"text-align: right;\">\n",
              "      <th></th>\n",
              "      <th>age</th>\n",
              "      <th>anaemia</th>\n",
              "      <th>creatinine_phosphokinase</th>\n",
              "      <th>diabetes</th>\n",
              "      <th>ejection_fraction</th>\n",
              "      <th>high_blood_pressure</th>\n",
              "      <th>platelets</th>\n",
              "      <th>serum_creatinine</th>\n",
              "      <th>serum_sodium</th>\n",
              "      <th>sex</th>\n",
              "      <th>smoking</th>\n",
              "      <th>DEATH_EVENT</th>\n",
              "    </tr>\n",
              "  </thead>\n",
              "  <tbody>\n",
              "    <tr>\n",
              "      <th>age</th>\n",
              "      <td>1.000000</td>\n",
              "      <td>0.088006</td>\n",
              "      <td>-0.081584</td>\n",
              "      <td>-0.101012</td>\n",
              "      <td>0.060098</td>\n",
              "      <td>0.093289</td>\n",
              "      <td>-0.052354</td>\n",
              "      <td>0.159187</td>\n",
              "      <td>-0.045966</td>\n",
              "      <td>0.065430</td>\n",
              "      <td>0.018668</td>\n",
              "      <td>0.253729</td>\n",
              "    </tr>\n",
              "    <tr>\n",
              "      <th>anaemia</th>\n",
              "      <td>0.088006</td>\n",
              "      <td>1.000000</td>\n",
              "      <td>-0.190741</td>\n",
              "      <td>-0.012729</td>\n",
              "      <td>0.031557</td>\n",
              "      <td>0.038182</td>\n",
              "      <td>-0.043786</td>\n",
              "      <td>0.052174</td>\n",
              "      <td>0.041882</td>\n",
              "      <td>-0.094769</td>\n",
              "      <td>-0.107290</td>\n",
              "      <td>0.066270</td>\n",
              "    </tr>\n",
              "    <tr>\n",
              "      <th>creatinine_phosphokinase</th>\n",
              "      <td>-0.081584</td>\n",
              "      <td>-0.190741</td>\n",
              "      <td>1.000000</td>\n",
              "      <td>-0.009639</td>\n",
              "      <td>-0.044080</td>\n",
              "      <td>-0.070590</td>\n",
              "      <td>0.024463</td>\n",
              "      <td>-0.016408</td>\n",
              "      <td>0.059550</td>\n",
              "      <td>0.079791</td>\n",
              "      <td>0.002421</td>\n",
              "      <td>0.062728</td>\n",
              "    </tr>\n",
              "    <tr>\n",
              "      <th>diabetes</th>\n",
              "      <td>-0.101012</td>\n",
              "      <td>-0.012729</td>\n",
              "      <td>-0.009639</td>\n",
              "      <td>1.000000</td>\n",
              "      <td>-0.004850</td>\n",
              "      <td>-0.012732</td>\n",
              "      <td>0.092193</td>\n",
              "      <td>-0.046975</td>\n",
              "      <td>-0.089551</td>\n",
              "      <td>-0.157730</td>\n",
              "      <td>-0.147173</td>\n",
              "      <td>-0.001943</td>\n",
              "    </tr>\n",
              "    <tr>\n",
              "      <th>ejection_fraction</th>\n",
              "      <td>0.060098</td>\n",
              "      <td>0.031557</td>\n",
              "      <td>-0.044080</td>\n",
              "      <td>-0.004850</td>\n",
              "      <td>1.000000</td>\n",
              "      <td>0.024445</td>\n",
              "      <td>0.072177</td>\n",
              "      <td>-0.011302</td>\n",
              "      <td>0.175902</td>\n",
              "      <td>-0.148386</td>\n",
              "      <td>-0.067315</td>\n",
              "      <td>-0.268603</td>\n",
              "    </tr>\n",
              "    <tr>\n",
              "      <th>high_blood_pressure</th>\n",
              "      <td>0.093289</td>\n",
              "      <td>0.038182</td>\n",
              "      <td>-0.070590</td>\n",
              "      <td>-0.012732</td>\n",
              "      <td>0.024445</td>\n",
              "      <td>1.000000</td>\n",
              "      <td>0.049963</td>\n",
              "      <td>-0.004935</td>\n",
              "      <td>0.037109</td>\n",
              "      <td>-0.104615</td>\n",
              "      <td>-0.055711</td>\n",
              "      <td>0.079351</td>\n",
              "    </tr>\n",
              "    <tr>\n",
              "      <th>platelets</th>\n",
              "      <td>-0.052354</td>\n",
              "      <td>-0.043786</td>\n",
              "      <td>0.024463</td>\n",
              "      <td>0.092193</td>\n",
              "      <td>0.072177</td>\n",
              "      <td>0.049963</td>\n",
              "      <td>1.000000</td>\n",
              "      <td>-0.041198</td>\n",
              "      <td>0.062125</td>\n",
              "      <td>-0.125120</td>\n",
              "      <td>0.028234</td>\n",
              "      <td>-0.049139</td>\n",
              "    </tr>\n",
              "    <tr>\n",
              "      <th>serum_creatinine</th>\n",
              "      <td>0.159187</td>\n",
              "      <td>0.052174</td>\n",
              "      <td>-0.016408</td>\n",
              "      <td>-0.046975</td>\n",
              "      <td>-0.011302</td>\n",
              "      <td>-0.004935</td>\n",
              "      <td>-0.041198</td>\n",
              "      <td>1.000000</td>\n",
              "      <td>-0.189095</td>\n",
              "      <td>0.006970</td>\n",
              "      <td>-0.027414</td>\n",
              "      <td>0.294278</td>\n",
              "    </tr>\n",
              "    <tr>\n",
              "      <th>serum_sodium</th>\n",
              "      <td>-0.045966</td>\n",
              "      <td>0.041882</td>\n",
              "      <td>0.059550</td>\n",
              "      <td>-0.089551</td>\n",
              "      <td>0.175902</td>\n",
              "      <td>0.037109</td>\n",
              "      <td>0.062125</td>\n",
              "      <td>-0.189095</td>\n",
              "      <td>1.000000</td>\n",
              "      <td>-0.027566</td>\n",
              "      <td>0.004813</td>\n",
              "      <td>-0.195204</td>\n",
              "    </tr>\n",
              "    <tr>\n",
              "      <th>sex</th>\n",
              "      <td>0.065430</td>\n",
              "      <td>-0.094769</td>\n",
              "      <td>0.079791</td>\n",
              "      <td>-0.157730</td>\n",
              "      <td>-0.148386</td>\n",
              "      <td>-0.104615</td>\n",
              "      <td>-0.125120</td>\n",
              "      <td>0.006970</td>\n",
              "      <td>-0.027566</td>\n",
              "      <td>1.000000</td>\n",
              "      <td>0.445892</td>\n",
              "      <td>-0.004316</td>\n",
              "    </tr>\n",
              "    <tr>\n",
              "      <th>smoking</th>\n",
              "      <td>0.018668</td>\n",
              "      <td>-0.107290</td>\n",
              "      <td>0.002421</td>\n",
              "      <td>-0.147173</td>\n",
              "      <td>-0.067315</td>\n",
              "      <td>-0.055711</td>\n",
              "      <td>0.028234</td>\n",
              "      <td>-0.027414</td>\n",
              "      <td>0.004813</td>\n",
              "      <td>0.445892</td>\n",
              "      <td>1.000000</td>\n",
              "      <td>-0.012623</td>\n",
              "    </tr>\n",
              "    <tr>\n",
              "      <th>DEATH_EVENT</th>\n",
              "      <td>0.253729</td>\n",
              "      <td>0.066270</td>\n",
              "      <td>0.062728</td>\n",
              "      <td>-0.001943</td>\n",
              "      <td>-0.268603</td>\n",
              "      <td>0.079351</td>\n",
              "      <td>-0.049139</td>\n",
              "      <td>0.294278</td>\n",
              "      <td>-0.195204</td>\n",
              "      <td>-0.004316</td>\n",
              "      <td>-0.012623</td>\n",
              "      <td>1.000000</td>\n",
              "    </tr>\n",
              "  </tbody>\n",
              "</table>\n",
              "</div>"
            ],
            "text/plain": [
              "                               age   anaemia  ...   smoking  DEATH_EVENT\n",
              "age                       1.000000  0.088006  ...  0.018668     0.253729\n",
              "anaemia                   0.088006  1.000000  ... -0.107290     0.066270\n",
              "creatinine_phosphokinase -0.081584 -0.190741  ...  0.002421     0.062728\n",
              "diabetes                 -0.101012 -0.012729  ... -0.147173    -0.001943\n",
              "ejection_fraction         0.060098  0.031557  ... -0.067315    -0.268603\n",
              "high_blood_pressure       0.093289  0.038182  ... -0.055711     0.079351\n",
              "platelets                -0.052354 -0.043786  ...  0.028234    -0.049139\n",
              "serum_creatinine          0.159187  0.052174  ... -0.027414     0.294278\n",
              "serum_sodium             -0.045966  0.041882  ...  0.004813    -0.195204\n",
              "sex                       0.065430 -0.094769  ...  0.445892    -0.004316\n",
              "smoking                   0.018668 -0.107290  ...  1.000000    -0.012623\n",
              "DEATH_EVENT               0.253729  0.066270  ... -0.012623     1.000000\n",
              "\n",
              "[12 rows x 12 columns]"
            ]
          },
          "metadata": {
            "tags": []
          },
          "execution_count": 35
        }
      ]
    },
    {
      "cell_type": "markdown",
      "metadata": {
        "id": "iRAC2q10GAzq"
      },
      "source": [
        "Since 'DEATH_EVENT' is the target variable, from the above correlation table, we can see 'age', 'high_blood_pressure', 'serum_creatinine', 'ejection_fraction', and 'serum_sodium' are the top five correlated features. "
      ]
    },
    {
      "cell_type": "markdown",
      "metadata": {
        "id": "TywgDc-rlNvD"
      },
      "source": [
        "#Data Visualization"
      ]
    },
    {
      "cell_type": "markdown",
      "metadata": {
        "id": "_Uh7szeHI5-x"
      },
      "source": [
        "The following heatmap will show the correlation between features visually."
      ]
    },
    {
      "cell_type": "code",
      "metadata": {
        "colab": {
          "base_uri": "https://localhost:8080/",
          "height": 638
        },
        "id": "gpdvKW9cNr3z",
        "outputId": "78eaf5fe-76d3-468e-f91d-fc0caf44eee8"
      },
      "source": [
        "sns.heatmap(df.corr(), linewidths=0.25, cmap='YlGnBu');"
      ],
      "execution_count": 36,
      "outputs": [
        {
          "output_type": "display_data",
          "data": {
            "image/png": "[encoded data removed]",
            "text/plain": [
              "<Figure size 842.4x595.44 with 2 Axes>"
            ]
          },
          "metadata": {
            "tags": []
          }
        }
      ]
    },
    {
      "cell_type": "markdown",
      "metadata": {
        "id": "94JMUjZ9JNqe"
      },
      "source": [
        "From the heatmap, we got the same results from the correlation data table.\r\n",
        "Since time has the highest correlation, the relation of time with DEATH_EVENT will be explored."
      ]
    },
    {
      "cell_type": "code",
      "metadata": {
        "colab": {
          "base_uri": "https://localhost:8080/",
          "height": 533
        },
        "id": "DUfQIfDtJrsZ",
        "outputId": "030209b4-f493-4ba3-9c13-61893cc0c8f5"
      },
      "source": [
        "death_events_ejection = df[df['DEATH_EVENT']==1]['ejection_fraction']\r\n",
        "sns.histplot(death_events_ejection, binwidth=5)\r\n",
        "plt.title('Number of deaths by the ejection fraction rate')\r\n",
        "plt.xlabel('% Blood pumped out of heart')\r\n",
        "plt.ylabel('Death count');"
      ],
      "execution_count": 37,
      "outputs": [
        {
          "output_type": "display_data",
          "data": {
            "image/png": "[encoded data removed]",
            "text/plain": [
              "<Figure size 842.4x595.44 with 1 Axes>"
            ]
          },
          "metadata": {
            "tags": []
          }
        }
      ]
    },
    {
      "cell_type": "markdown",
      "metadata": {
        "id": "y_XO6nOzLx7h"
      },
      "source": [
        "As we can see, the lower the ejection fraction the higher the death count."
      ]
    },
    {
      "cell_type": "code",
      "metadata": {
        "colab": {
          "base_uri": "https://localhost:8080/",
          "height": 533
        },
        "id": "YgV0VV67lyUV",
        "outputId": "08139361-d05c-4375-fb62-d6e257517697"
      },
      "source": [
        "# Explore on the age with death events\n",
        "death_serum = df[df['DEATH_EVENT']==1]['serum_creatinine']\n",
        "sns.histplot(death_serum, binwidth=0.5)\n",
        "plt.title('Number of Deaths by serum creatinine in bloodwork')\n",
        "plt.xlabel('Serum creatinine in (mg/dL)')\n",
        "plt.ylabel('Death count');"
      ],
      "execution_count": 38,
      "outputs": [
        {
          "output_type": "display_data",
          "data": {
            "image/png": "[encoded data removed]",
            "text/plain": [
              "<Figure size 842.4x595.44 with 1 Axes>"
            ]
          },
          "metadata": {
            "tags": []
          }
        }
      ]
    },
    {
      "cell_type": "markdown",
      "metadata": {
        "id": "WcyKgsN3EM9y"
      },
      "source": [
        "As we can see lower serum creatinine the higher the death counts."
      ]
    },
    {
      "cell_type": "code",
      "metadata": {
        "colab": {
          "base_uri": "https://localhost:8080/",
          "height": 533
        },
        "id": "t6fhggQ0lOtK",
        "outputId": "9296bdb4-78f7-4851-c966-55b8904292f2"
      },
      "source": [
        "sns.scatterplot(data=df, x='ejection_fraction', y='serum_creatinine', hue='DEATH_EVENT')\r\n",
        "plt.title('Serum creatinine level by ejection fraction level');"
      ],
      "execution_count": 39,
      "outputs": [
        {
          "output_type": "display_data",
          "data": {
            "image/png": "[encoded data removed]",
            "text/plain": [
              "<Figure size 842.4x595.44 with 1 Axes>"
            ]
          },
          "metadata": {
            "tags": []
          }
        }
      ]
    },
    {
      "cell_type": "markdown",
      "metadata": {
        "id": "5DEmsO2v3iYz"
      },
      "source": [
        "---\n",
        "# Machine Learning "
      ]
    },
    {
      "cell_type": "markdown",
      "metadata": {
        "id": "GoIFdbUFmE1f"
      },
      "source": [
        "## Model Testing\n",
        "### Test Case 1:\n",
        "- 2 most negatively correlated features and 3 most correlated features from the heat map\n",
        "- max_depth=3, min_samples_split=10"
      ]
    },
    {
      "cell_type": "code",
      "metadata": {
        "colab": {
          "base_uri": "https://localhost:8080/",
          "height": 598
        },
        "id": "hTE92_56wZv6",
        "outputId": "a1fbcb5f-da10-4715-f299-f72499107b63"
      },
      "source": [
        "# Convert to Numpy\n",
        "predictors = ['age', 'high_blood_pressure', 'serum_creatinine', 'ejection_fraction', 'serum_sodium']\n",
        "X = df[predictors].values\n",
        "y = (df['DEATH_EVENT']).values\n",
        "\n",
        "# Create training and test sets\n",
        "X_train, X_test, y_train, y_test = train_test_split(X, y, test_size=0.25, random_state=random_seed)\n",
        "\n",
        "# Decision Tree Classification\n",
        "clf = DecisionTreeClassifier(max_depth=3, min_samples_split=10, random_state=random_seed)\n",
        "clf.fit(X_train, y_train)\n",
        "\n",
        "target_names = ['Survive', 'Death']\n",
        "dot_data = export_graphviz(clf, precision=2,\n",
        "                     feature_names=predictors,  \n",
        "                     proportion=True,\n",
        "                     class_names=target_names,  \n",
        "                     filled=True, rounded=True,  \n",
        "                     special_characters=True)\n",
        "\n",
        "# plot it\n",
        "graph = graphviz.Source(dot_data)  \n",
        "graph"
      ],
      "execution_count": 40,
      "outputs": [
        {
          "output_type": "execute_result",
          "data": {
            "text/plain": [
              "<graphviz.files.Source at 0x7fe4ba62a750>"
            ],
            "image/svg+xml": "<?xml version=\"1.0\" encoding=\"UTF-8\" standalone=\"no\"?>\n<!DOCTYPE svg PUBLIC \"-//W3C//DTD SVG 1.1//EN\"\n \"http://www.w3.org/Graphics/SVG/1.1/DTD/svg11.dtd\">\n<!-- Generated by graphviz version 2.40.1 (20161225.0304)\n -->\n<!-- Title: Tree Pages: 1 -->\n<svg width=\"1222pt\" height=\"433pt\"\n viewBox=\"0.00 0.00 1222.00 433.00\" xmlns=\"http://www.w3.org/2000/svg\" xmlns:xlink=\"http://www.w3.org/1999/xlink\">\n<g id=\"graph0\" class=\"graph\" transform=\"scale(1 1) rotate(0) translate(4 429)\">\n<title>Tree</title>\n<polygon fill=\"#ffffff\" stroke=\"transparent\" points=\"-4,4 -4,-429 1218,-429 1218,4 -4,4\"/>\n<!-- 0 -->\n<g id=\"node1\" class=\"node\">\n<title>0</title>\n<path fill=\"#f1b991\" stroke=\"#000000\" d=\"M676,-425C676,-425 528,-425 528,-425 522,-425 516,-419 516,-413 516,-413 516,-354 516,-354 516,-348 522,-342 528,-342 528,-342 676,-342 676,-342 682,-342 688,-348 688,-354 688,-354 688,-413 688,-413 688,-419 682,-425 676,-425\"/>\n<text text-anchor=\"start\" x=\"524\" y=\"-409.8\" font-family=\"Helvetica,sans-Serif\" font-size=\"14.00\" fill=\"#000000\">serum_creatinine ≤ 1.81</text>\n<text text-anchor=\"start\" x=\"568.5\" y=\"-394.8\" font-family=\"Helvetica,sans-Serif\" font-size=\"14.00\" fill=\"#000000\">gini = 0.43</text>\n<text text-anchor=\"start\" x=\"541.5\" y=\"-379.8\" font-family=\"Helvetica,sans-Serif\" font-size=\"14.00\" fill=\"#000000\">samples = 100.0%</text>\n<text text-anchor=\"start\" x=\"540\" y=\"-364.8\" font-family=\"Helvetica,sans-Serif\" font-size=\"14.00\" fill=\"#000000\">value = [0.69, 0.31]</text>\n<text text-anchor=\"start\" x=\"552.5\" y=\"-349.8\" font-family=\"Helvetica,sans-Serif\" font-size=\"14.00\" fill=\"#000000\">class = Survive</text>\n</g>\n<!-- 1 -->\n<g id=\"node2\" class=\"node\">\n<title>1</title>\n<path fill=\"#eda572\" stroke=\"#000000\" d=\"M527,-306C527,-306 385,-306 385,-306 379,-306 373,-300 373,-294 373,-294 373,-235 373,-235 373,-229 379,-223 385,-223 385,-223 527,-223 527,-223 533,-223 539,-229 539,-235 539,-235 539,-294 539,-294 539,-300 533,-306 527,-306\"/>\n<text text-anchor=\"start\" x=\"381\" y=\"-290.8\" font-family=\"Helvetica,sans-Serif\" font-size=\"14.00\" fill=\"#000000\">ejection_fraction ≤ 32.5</text>\n<text text-anchor=\"start\" x=\"422.5\" y=\"-275.8\" font-family=\"Helvetica,sans-Serif\" font-size=\"14.00\" fill=\"#000000\">gini = 0.35</text>\n<text text-anchor=\"start\" x=\"400\" y=\"-260.8\" font-family=\"Helvetica,sans-Serif\" font-size=\"14.00\" fill=\"#000000\">samples = 83.5%</text>\n<text text-anchor=\"start\" x=\"394\" y=\"-245.8\" font-family=\"Helvetica,sans-Serif\" font-size=\"14.00\" fill=\"#000000\">value = [0.78, 0.22]</text>\n<text text-anchor=\"start\" x=\"406.5\" y=\"-230.8\" font-family=\"Helvetica,sans-Serif\" font-size=\"14.00\" fill=\"#000000\">class = Survive</text>\n</g>\n<!-- 0&#45;&gt;1 -->\n<g id=\"edge1\" class=\"edge\">\n<title>0&#45;&gt;1</title>\n<path fill=\"none\" stroke=\"#000000\" d=\"M550.9363,-341.8796C539.4445,-332.513 527.1532,-322.4948 515.355,-312.8784\"/>\n<polygon fill=\"#000000\" stroke=\"#000000\" points=\"517.2444,-309.903 507.2817,-306.2981 512.8218,-315.329 517.2444,-309.903\"/>\n<text text-anchor=\"middle\" x=\"509.8157\" y=\"-327.4693\" font-family=\"Helvetica,sans-Serif\" font-size=\"14.00\" fill=\"#000000\">True</text>\n</g>\n<!-- 8 -->\n<g id=\"node9\" class=\"node\">\n<title>8</title>\n<path fill=\"#82c1ef\" stroke=\"#000000\" d=\"M829,-306C829,-306 689,-306 689,-306 683,-306 677,-300 677,-294 677,-294 677,-235 677,-235 677,-229 683,-223 689,-223 689,-223 829,-223 829,-223 835,-223 841,-229 841,-235 841,-235 841,-294 841,-294 841,-300 835,-306 829,-306\"/>\n<text text-anchor=\"start\" x=\"685\" y=\"-290.8\" font-family=\"Helvetica,sans-Serif\" font-size=\"14.00\" fill=\"#000000\">serum_sodium ≤ 134.5</text>\n<text text-anchor=\"start\" x=\"725.5\" y=\"-275.8\" font-family=\"Helvetica,sans-Serif\" font-size=\"14.00\" fill=\"#000000\">gini = 0.39</text>\n<text text-anchor=\"start\" x=\"703\" y=\"-260.8\" font-family=\"Helvetica,sans-Serif\" font-size=\"14.00\" fill=\"#000000\">samples = 16.5%</text>\n<text text-anchor=\"start\" x=\"697\" y=\"-245.8\" font-family=\"Helvetica,sans-Serif\" font-size=\"14.00\" fill=\"#000000\">value = [0.27, 0.73]</text>\n<text text-anchor=\"start\" x=\"714.5\" y=\"-230.8\" font-family=\"Helvetica,sans-Serif\" font-size=\"14.00\" fill=\"#000000\">class = Death</text>\n</g>\n<!-- 0&#45;&gt;8 -->\n<g id=\"edge8\" class=\"edge\">\n<title>0&#45;&gt;8</title>\n<path fill=\"none\" stroke=\"#000000\" d=\"M656.911,-341.8796C669.5794,-332.2774 683.1515,-321.9903 696.1295,-312.1534\"/>\n<polygon fill=\"#000000\" stroke=\"#000000\" points=\"698.2648,-314.9268 704.12,-306.0969 694.0364,-309.3482 698.2648,-314.9268\"/>\n<text text-anchor=\"middle\" x=\"700.7102\" y=\"-327.1633\" font-family=\"Helvetica,sans-Serif\" font-size=\"14.00\" fill=\"#000000\">False</text>\n</g>\n<!-- 2 -->\n<g id=\"node3\" class=\"node\">\n<title>2</title>\n<path fill=\"#fcf1e9\" stroke=\"#000000\" d=\"M302,-187C302,-187 154,-187 154,-187 148,-187 142,-181 142,-175 142,-175 142,-116 142,-116 142,-110 148,-104 154,-104 154,-104 302,-104 302,-104 308,-104 314,-110 314,-116 314,-116 314,-175 314,-175 314,-181 308,-187 302,-187\"/>\n<text text-anchor=\"start\" x=\"150\" y=\"-171.8\" font-family=\"Helvetica,sans-Serif\" font-size=\"14.00\" fill=\"#000000\">serum_creatinine ≤ 0.95</text>\n<text text-anchor=\"start\" x=\"198.5\" y=\"-156.8\" font-family=\"Helvetica,sans-Serif\" font-size=\"14.00\" fill=\"#000000\">gini = 0.5</text>\n<text text-anchor=\"start\" x=\"172\" y=\"-141.8\" font-family=\"Helvetica,sans-Serif\" font-size=\"14.00\" fill=\"#000000\">samples = 22.8%</text>\n<text text-anchor=\"start\" x=\"166\" y=\"-126.8\" font-family=\"Helvetica,sans-Serif\" font-size=\"14.00\" fill=\"#000000\">value = [0.53, 0.47]</text>\n<text text-anchor=\"start\" x=\"178.5\" y=\"-111.8\" font-family=\"Helvetica,sans-Serif\" font-size=\"14.00\" fill=\"#000000\">class = Survive</text>\n</g>\n<!-- 1&#45;&gt;2 -->\n<g id=\"edge2\" class=\"edge\">\n<title>1&#45;&gt;2</title>\n<path fill=\"none\" stroke=\"#000000\" d=\"M376.2567,-222.8796C356.9914,-212.8244 336.2871,-202.0183 316.6413,-191.7645\"/>\n<polygon fill=\"#000000\" stroke=\"#000000\" points=\"318.1829,-188.6212 307.6983,-187.0969 314.944,-194.8268 318.1829,-188.6212\"/>\n</g>\n<!-- 5 -->\n<g id=\"node6\" class=\"node\">\n<title>5</title>\n<path fill=\"#e99457\" stroke=\"#000000\" d=\"M514,-187C514,-187 398,-187 398,-187 392,-187 386,-181 386,-175 386,-175 386,-116 386,-116 386,-110 392,-104 398,-104 398,-104 514,-104 514,-104 520,-104 526,-110 526,-116 526,-116 526,-175 526,-175 526,-181 520,-187 514,-187\"/>\n<text text-anchor=\"start\" x=\"421.5\" y=\"-171.8\" font-family=\"Helvetica,sans-Serif\" font-size=\"14.00\" fill=\"#000000\">age ≤ 79.5</text>\n<text text-anchor=\"start\" x=\"422.5\" y=\"-156.8\" font-family=\"Helvetica,sans-Serif\" font-size=\"14.00\" fill=\"#000000\">gini = 0.23</text>\n<text text-anchor=\"start\" x=\"400\" y=\"-141.8\" font-family=\"Helvetica,sans-Serif\" font-size=\"14.00\" fill=\"#000000\">samples = 60.7%</text>\n<text text-anchor=\"start\" x=\"394\" y=\"-126.8\" font-family=\"Helvetica,sans-Serif\" font-size=\"14.00\" fill=\"#000000\">value = [0.87, 0.13]</text>\n<text text-anchor=\"start\" x=\"406.5\" y=\"-111.8\" font-family=\"Helvetica,sans-Serif\" font-size=\"14.00\" fill=\"#000000\">class = Survive</text>\n</g>\n<!-- 1&#45;&gt;5 -->\n<g id=\"edge5\" class=\"edge\">\n<title>1&#45;&gt;5</title>\n<path fill=\"none\" stroke=\"#000000\" d=\"M456,-222.8796C456,-214.6838 456,-205.9891 456,-197.5013\"/>\n<polygon fill=\"#000000\" stroke=\"#000000\" points=\"459.5001,-197.298 456,-187.2981 452.5001,-197.2981 459.5001,-197.298\"/>\n</g>\n<!-- 3 -->\n<g id=\"node4\" class=\"node\">\n<title>3</title>\n<path fill=\"#eda774\" stroke=\"#000000\" d=\"M128,-68C128,-68 12,-68 12,-68 6,-68 0,-62 0,-56 0,-56 0,-12 0,-12 0,-6 6,0 12,0 12,0 128,0 128,0 134,0 140,-6 140,-12 140,-12 140,-56 140,-56 140,-62 134,-68 128,-68\"/>\n<text text-anchor=\"start\" x=\"36.5\" y=\"-52.8\" font-family=\"Helvetica,sans-Serif\" font-size=\"14.00\" fill=\"#000000\">gini = 0.36</text>\n<text text-anchor=\"start\" x=\"18\" y=\"-37.8\" font-family=\"Helvetica,sans-Serif\" font-size=\"14.00\" fill=\"#000000\">samples = 5.8%</text>\n<text text-anchor=\"start\" x=\"8\" y=\"-22.8\" font-family=\"Helvetica,sans-Serif\" font-size=\"14.00\" fill=\"#000000\">value = [0.77, 0.23]</text>\n<text text-anchor=\"start\" x=\"20.5\" y=\"-7.8\" font-family=\"Helvetica,sans-Serif\" font-size=\"14.00\" fill=\"#000000\">class = Survive</text>\n</g>\n<!-- 2&#45;&gt;3 -->\n<g id=\"edge3\" class=\"edge\">\n<title>2&#45;&gt;3</title>\n<path fill=\"none\" stroke=\"#000000\" d=\"M169.1666,-103.9815C155.289,-94.1881 140.5216,-83.7668 126.7386,-74.0402\"/>\n<polygon fill=\"#000000\" stroke=\"#000000\" points=\"128.4892,-70.9918 118.3007,-68.0856 124.4531,-76.7111 128.4892,-70.9918\"/>\n</g>\n<!-- 4 -->\n<g id=\"node5\" class=\"node\">\n<title>4</title>\n<path fill=\"#d9ecfa\" stroke=\"#000000\" d=\"M286,-68C286,-68 170,-68 170,-68 164,-68 158,-62 158,-56 158,-56 158,-12 158,-12 158,-6 164,0 170,0 170,0 286,0 286,0 292,0 298,-6 298,-12 298,-12 298,-56 298,-56 298,-62 292,-68 286,-68\"/>\n<text text-anchor=\"start\" x=\"194.5\" y=\"-52.8\" font-family=\"Helvetica,sans-Serif\" font-size=\"14.00\" fill=\"#000000\">gini = 0.49</text>\n<text text-anchor=\"start\" x=\"172\" y=\"-37.8\" font-family=\"Helvetica,sans-Serif\" font-size=\"14.00\" fill=\"#000000\">samples = 17.0%</text>\n<text text-anchor=\"start\" x=\"166\" y=\"-22.8\" font-family=\"Helvetica,sans-Serif\" font-size=\"14.00\" fill=\"#000000\">value = [0.45, 0.55]</text>\n<text text-anchor=\"start\" x=\"183.5\" y=\"-7.8\" font-family=\"Helvetica,sans-Serif\" font-size=\"14.00\" fill=\"#000000\">class = Death</text>\n</g>\n<!-- 2&#45;&gt;4 -->\n<g id=\"edge4\" class=\"edge\">\n<title>2&#45;&gt;4</title>\n<path fill=\"none\" stroke=\"#000000\" d=\"M228,-103.9815C228,-95.618 228,-86.7965 228,-78.3409\"/>\n<polygon fill=\"#000000\" stroke=\"#000000\" points=\"231.5001,-78.2636 228,-68.2637 224.5001,-78.2637 231.5001,-78.2636\"/>\n</g>\n<!-- 6 -->\n<g id=\"node7\" class=\"node\">\n<title>6</title>\n<path fill=\"#e78d4c\" stroke=\"#000000\" d=\"M444,-68C444,-68 328,-68 328,-68 322,-68 316,-62 316,-56 316,-56 316,-12 316,-12 316,-6 322,0 328,0 328,0 444,0 444,0 450,0 456,-6 456,-12 456,-12 456,-56 456,-56 456,-62 450,-68 444,-68\"/>\n<text text-anchor=\"start\" x=\"352.5\" y=\"-52.8\" font-family=\"Helvetica,sans-Serif\" font-size=\"14.00\" fill=\"#000000\">gini = 0.16</text>\n<text text-anchor=\"start\" x=\"330\" y=\"-37.8\" font-family=\"Helvetica,sans-Serif\" font-size=\"14.00\" fill=\"#000000\">samples = 56.7%</text>\n<text text-anchor=\"start\" x=\"324\" y=\"-22.8\" font-family=\"Helvetica,sans-Serif\" font-size=\"14.00\" fill=\"#000000\">value = [0.91, 0.09]</text>\n<text text-anchor=\"start\" x=\"336.5\" y=\"-7.8\" font-family=\"Helvetica,sans-Serif\" font-size=\"14.00\" fill=\"#000000\">class = Survive</text>\n</g>\n<!-- 5&#45;&gt;6 -->\n<g id=\"edge6\" class=\"edge\">\n<title>5&#45;&gt;6</title>\n<path fill=\"none\" stroke=\"#000000\" d=\"M429.9346,-103.9815C424.3955,-95.1585 418.5364,-85.8258 412.9645,-76.9506\"/>\n<polygon fill=\"#000000\" stroke=\"#000000\" points=\"415.7922,-74.872 407.5108,-68.2637 409.8637,-78.594 415.7922,-74.872\"/>\n</g>\n<!-- 7 -->\n<g id=\"node8\" class=\"node\">\n<title>7</title>\n<path fill=\"#72b9ec\" stroke=\"#000000\" d=\"M602,-68C602,-68 486,-68 486,-68 480,-68 474,-62 474,-56 474,-56 474,-12 474,-12 474,-6 480,0 486,0 486,0 602,0 602,0 608,0 614,-6 614,-12 614,-12 614,-56 614,-56 614,-62 608,-68 602,-68\"/>\n<text text-anchor=\"start\" x=\"510.5\" y=\"-52.8\" font-family=\"Helvetica,sans-Serif\" font-size=\"14.00\" fill=\"#000000\">gini = 0.35</text>\n<text text-anchor=\"start\" x=\"492\" y=\"-37.8\" font-family=\"Helvetica,sans-Serif\" font-size=\"14.00\" fill=\"#000000\">samples = 4.0%</text>\n<text text-anchor=\"start\" x=\"482\" y=\"-22.8\" font-family=\"Helvetica,sans-Serif\" font-size=\"14.00\" fill=\"#000000\">value = [0.22, 0.78]</text>\n<text text-anchor=\"start\" x=\"499.5\" y=\"-7.8\" font-family=\"Helvetica,sans-Serif\" font-size=\"14.00\" fill=\"#000000\">class = Death</text>\n</g>\n<!-- 5&#45;&gt;7 -->\n<g id=\"edge7\" class=\"edge\">\n<title>5&#45;&gt;7</title>\n<path fill=\"none\" stroke=\"#000000\" d=\"M488.768,-103.9815C495.949,-94.8828 503.5579,-85.242 510.7574,-76.1199\"/>\n<polygon fill=\"#000000\" stroke=\"#000000\" points=\"513.5099,-78.2818 516.9578,-68.2637 508.0151,-73.9451 513.5099,-78.2818\"/>\n</g>\n<!-- 9 -->\n<g id=\"node10\" class=\"node\">\n<title>9</title>\n<path fill=\"#54aae9\" stroke=\"#000000\" d=\"M817,-187C817,-187 701,-187 701,-187 695,-187 689,-181 689,-175 689,-175 689,-116 689,-116 689,-110 695,-104 701,-104 701,-104 817,-104 817,-104 823,-104 829,-110 829,-116 829,-116 829,-175 829,-175 829,-181 823,-187 817,-187\"/>\n<text text-anchor=\"start\" x=\"724.5\" y=\"-171.8\" font-family=\"Helvetica,sans-Serif\" font-size=\"14.00\" fill=\"#000000\">age ≤ 44.0</text>\n<text text-anchor=\"start\" x=\"725.5\" y=\"-156.8\" font-family=\"Helvetica,sans-Serif\" font-size=\"14.00\" fill=\"#000000\">gini = 0.21</text>\n<text text-anchor=\"start\" x=\"703\" y=\"-141.8\" font-family=\"Helvetica,sans-Serif\" font-size=\"14.00\" fill=\"#000000\">samples = 11.2%</text>\n<text text-anchor=\"start\" x=\"697\" y=\"-126.8\" font-family=\"Helvetica,sans-Serif\" font-size=\"14.00\" fill=\"#000000\">value = [0.12, 0.88]</text>\n<text text-anchor=\"start\" x=\"714.5\" y=\"-111.8\" font-family=\"Helvetica,sans-Serif\" font-size=\"14.00\" fill=\"#000000\">class = Death</text>\n</g>\n<!-- 8&#45;&gt;9 -->\n<g id=\"edge9\" class=\"edge\">\n<title>8&#45;&gt;9</title>\n<path fill=\"none\" stroke=\"#000000\" d=\"M759,-222.8796C759,-214.6838 759,-205.9891 759,-197.5013\"/>\n<polygon fill=\"#000000\" stroke=\"#000000\" points=\"762.5001,-197.298 759,-187.2981 755.5001,-197.2981 762.5001,-197.298\"/>\n</g>\n<!-- 12 -->\n<g id=\"node13\" class=\"node\">\n<title>12</title>\n<path fill=\"#f8dbc6\" stroke=\"#000000\" d=\"M1064,-187C1064,-187 924,-187 924,-187 918,-187 912,-181 912,-175 912,-175 912,-116 912,-116 912,-110 918,-104 924,-104 924,-104 1064,-104 1064,-104 1070,-104 1076,-110 1076,-116 1076,-116 1076,-175 1076,-175 1076,-181 1070,-187 1064,-187\"/>\n<text text-anchor=\"start\" x=\"920\" y=\"-171.8\" font-family=\"Helvetica,sans-Serif\" font-size=\"14.00\" fill=\"#000000\">serum_creatinine ≤ 2.2</text>\n<text text-anchor=\"start\" x=\"960.5\" y=\"-156.8\" font-family=\"Helvetica,sans-Serif\" font-size=\"14.00\" fill=\"#000000\">gini = 0.49</text>\n<text text-anchor=\"start\" x=\"942\" y=\"-141.8\" font-family=\"Helvetica,sans-Serif\" font-size=\"14.00\" fill=\"#000000\">samples = 5.4%</text>\n<text text-anchor=\"start\" x=\"932\" y=\"-126.8\" font-family=\"Helvetica,sans-Serif\" font-size=\"14.00\" fill=\"#000000\">value = [0.58, 0.42]</text>\n<text text-anchor=\"start\" x=\"944.5\" y=\"-111.8\" font-family=\"Helvetica,sans-Serif\" font-size=\"14.00\" fill=\"#000000\">class = Survive</text>\n</g>\n<!-- 8&#45;&gt;12 -->\n<g id=\"edge12\" class=\"edge\">\n<title>8&#45;&gt;12</title>\n<path fill=\"none\" stroke=\"#000000\" d=\"M841.1916,-222.8796C861.1378,-212.7791 882.5805,-201.9209 902.9108,-191.626\"/>\n<polygon fill=\"#000000\" stroke=\"#000000\" points=\"904.5146,-194.7371 911.8548,-187.0969 901.3522,-188.4921 904.5146,-194.7371\"/>\n</g>\n<!-- 10 -->\n<g id=\"node11\" class=\"node\">\n<title>10</title>\n<path fill=\"#e58139\" stroke=\"#000000\" d=\"M743.5,-68C743.5,-68 644.5,-68 644.5,-68 638.5,-68 632.5,-62 632.5,-56 632.5,-56 632.5,-12 632.5,-12 632.5,-6 638.5,0 644.5,0 644.5,0 743.5,0 743.5,0 749.5,0 755.5,-6 755.5,-12 755.5,-12 755.5,-56 755.5,-56 755.5,-62 749.5,-68 743.5,-68\"/>\n<text text-anchor=\"start\" x=\"664.5\" y=\"-52.8\" font-family=\"Helvetica,sans-Serif\" font-size=\"14.00\" fill=\"#000000\">gini = 0.0</text>\n<text text-anchor=\"start\" x=\"642\" y=\"-37.8\" font-family=\"Helvetica,sans-Serif\" font-size=\"14.00\" fill=\"#000000\">samples = 0.4%</text>\n<text text-anchor=\"start\" x=\"640.5\" y=\"-22.8\" font-family=\"Helvetica,sans-Serif\" font-size=\"14.00\" fill=\"#000000\">value = [1.0, 0.0]</text>\n<text text-anchor=\"start\" x=\"644.5\" y=\"-7.8\" font-family=\"Helvetica,sans-Serif\" font-size=\"14.00\" fill=\"#000000\">class = Survive</text>\n</g>\n<!-- 9&#45;&gt;10 -->\n<g id=\"edge10\" class=\"edge\">\n<title>9&#45;&gt;10</title>\n<path fill=\"none\" stroke=\"#000000\" d=\"M734.7964,-103.9815C729.6529,-95.1585 724.2123,-85.8258 719.0384,-76.9506\"/>\n<polygon fill=\"#000000\" stroke=\"#000000\" points=\"722.0344,-75.1402 713.9743,-68.2637 715.987,-78.6656 722.0344,-75.1402\"/>\n</g>\n<!-- 11 -->\n<g id=\"node12\" class=\"node\">\n<title>11</title>\n<path fill=\"#4ba6e7\" stroke=\"#000000\" d=\"M902,-68C902,-68 786,-68 786,-68 780,-68 774,-62 774,-56 774,-56 774,-12 774,-12 774,-6 780,0 786,0 786,0 902,0 902,0 908,0 914,-6 914,-12 914,-12 914,-56 914,-56 914,-62 908,-68 902,-68\"/>\n<text text-anchor=\"start\" x=\"810.5\" y=\"-52.8\" font-family=\"Helvetica,sans-Serif\" font-size=\"14.00\" fill=\"#000000\">gini = 0.15</text>\n<text text-anchor=\"start\" x=\"788\" y=\"-37.8\" font-family=\"Helvetica,sans-Serif\" font-size=\"14.00\" fill=\"#000000\">samples = 10.7%</text>\n<text text-anchor=\"start\" x=\"782\" y=\"-22.8\" font-family=\"Helvetica,sans-Serif\" font-size=\"14.00\" fill=\"#000000\">value = [0.08, 0.92]</text>\n<text text-anchor=\"start\" x=\"799.5\" y=\"-7.8\" font-family=\"Helvetica,sans-Serif\" font-size=\"14.00\" fill=\"#000000\">class = Death</text>\n</g>\n<!-- 9&#45;&gt;11 -->\n<g id=\"edge11\" class=\"edge\">\n<title>9&#45;&gt;11</title>\n<path fill=\"none\" stroke=\"#000000\" d=\"M790.6509,-103.9815C797.5171,-94.9747 804.7882,-85.4367 811.6798,-76.3965\"/>\n<polygon fill=\"#000000\" stroke=\"#000000\" points=\"814.6005,-78.3383 817.8797,-68.2637 809.0336,-74.0945 814.6005,-78.3383\"/>\n</g>\n<!-- 13 -->\n<g id=\"node14\" class=\"node\">\n<title>13</title>\n<path fill=\"#399de5\" stroke=\"#000000\" d=\"M1043.5,-68C1043.5,-68 944.5,-68 944.5,-68 938.5,-68 932.5,-62 932.5,-56 932.5,-56 932.5,-12 932.5,-12 932.5,-6 938.5,0 944.5,0 944.5,0 1043.5,0 1043.5,0 1049.5,0 1055.5,-6 1055.5,-12 1055.5,-12 1055.5,-56 1055.5,-56 1055.5,-62 1049.5,-68 1043.5,-68\"/>\n<text text-anchor=\"start\" x=\"964.5\" y=\"-52.8\" font-family=\"Helvetica,sans-Serif\" font-size=\"14.00\" fill=\"#000000\">gini = 0.0</text>\n<text text-anchor=\"start\" x=\"942\" y=\"-37.8\" font-family=\"Helvetica,sans-Serif\" font-size=\"14.00\" fill=\"#000000\">samples = 1.8%</text>\n<text text-anchor=\"start\" x=\"940.5\" y=\"-22.8\" font-family=\"Helvetica,sans-Serif\" font-size=\"14.00\" fill=\"#000000\">value = [0.0, 1.0]</text>\n<text text-anchor=\"start\" x=\"949.5\" y=\"-7.8\" font-family=\"Helvetica,sans-Serif\" font-size=\"14.00\" fill=\"#000000\">class = Death</text>\n</g>\n<!-- 12&#45;&gt;13 -->\n<g id=\"edge13\" class=\"edge\">\n<title>12&#45;&gt;13</title>\n<path fill=\"none\" stroke=\"#000000\" d=\"M994,-103.9815C994,-95.618 994,-86.7965 994,-78.3409\"/>\n<polygon fill=\"#000000\" stroke=\"#000000\" points=\"997.5001,-78.2636 994,-68.2637 990.5001,-78.2637 997.5001,-78.2636\"/>\n</g>\n<!-- 14 -->\n<g id=\"node15\" class=\"node\">\n<title>14</title>\n<path fill=\"#e99355\" stroke=\"#000000\" d=\"M1202,-68C1202,-68 1086,-68 1086,-68 1080,-68 1074,-62 1074,-56 1074,-56 1074,-12 1074,-12 1074,-6 1080,0 1086,0 1086,0 1202,0 1202,0 1208,0 1214,-6 1214,-12 1214,-12 1214,-56 1214,-56 1214,-62 1208,-68 1202,-68\"/>\n<text text-anchor=\"start\" x=\"1110.5\" y=\"-52.8\" font-family=\"Helvetica,sans-Serif\" font-size=\"14.00\" fill=\"#000000\">gini = 0.22</text>\n<text text-anchor=\"start\" x=\"1092\" y=\"-37.8\" font-family=\"Helvetica,sans-Serif\" font-size=\"14.00\" fill=\"#000000\">samples = 3.6%</text>\n<text text-anchor=\"start\" x=\"1082\" y=\"-22.8\" font-family=\"Helvetica,sans-Serif\" font-size=\"14.00\" fill=\"#000000\">value = [0.88, 0.12]</text>\n<text text-anchor=\"start\" x=\"1094.5\" y=\"-7.8\" font-family=\"Helvetica,sans-Serif\" font-size=\"14.00\" fill=\"#000000\">class = Survive</text>\n</g>\n<!-- 12&#45;&gt;14 -->\n<g id=\"edge14\" class=\"edge\">\n<title>12&#45;&gt;14</title>\n<path fill=\"none\" stroke=\"#000000\" d=\"M1049.8545,-103.9815C1062.8368,-94.3313 1076.6394,-84.0714 1089.5597,-74.4673\"/>\n<polygon fill=\"#000000\" stroke=\"#000000\" points=\"1091.9678,-77.0384 1097.9054,-68.2637 1087.7917,-71.4204 1091.9678,-77.0384\"/>\n</g>\n</g>\n</svg>\n"
          },
          "metadata": {
            "tags": []
          },
          "execution_count": 40
        }
      ]
    },
    {
      "cell_type": "markdown",
      "metadata": {
        "id": "WVUv5E7hQaFv"
      },
      "source": [
        "As we can see one of the leaf node samples size is only 0.4% of the data, that is possibility of overfitting. So we will add another hyperparmeter min_samples_leaf to avoid overfitting as we are tuning the model."
      ]
    },
    {
      "cell_type": "markdown",
      "metadata": {
        "id": "Mi-02hFcnT9-"
      },
      "source": [
        "#### Which features are most impactful?"
      ]
    },
    {
      "cell_type": "code",
      "metadata": {
        "id": "LgEi9aszx5Gx",
        "colab": {
          "base_uri": "https://localhost:8080/"
        },
        "outputId": "fb349208-5b5b-4d4e-b590-9fc8ce4159d6"
      },
      "source": [
        "# Get a list of all features and their importances\n",
        "clf.feature_importances_\n"
      ],
      "execution_count": 41,
      "outputs": [
        {
          "output_type": "execute_result",
          "data": {
            "text/plain": [
              "array([0.22186269, 0.        , 0.50278514, 0.19525679, 0.08009538])"
            ]
          },
          "metadata": {
            "tags": []
          },
          "execution_count": 41
        }
      ]
    },
    {
      "cell_type": "markdown",
      "metadata": {
        "id": "N-JShr71oCOu"
      },
      "source": [
        "Answer: age, serum_creatinine, ejection_fraction, and serum_sodium appear to have the most impact on results"
      ]
    },
    {
      "cell_type": "markdown",
      "metadata": {
        "id": "ooxLNXhOH3Ya"
      },
      "source": [
        "#### Get Prediction and Accuracy "
      ]
    },
    {
      "cell_type": "code",
      "metadata": {
        "id": "-E1Xok2X9HnU"
      },
      "source": [
        "def get_cross_tab_graph(actual, prediction, test_number):\r\n",
        "  ''' Takes in the actual data, predicted data, and test_number to generate a cross tab table and graph '''\r\n",
        "  confusion_matrix = pd.crosstab(actual, prediction, rownames=['Actual'], colnames=['Predicted'])\r\n",
        "  # print(confusion_matrix)\r\n",
        "  confusion_matrix.plot.bar()\r\n",
        "  plt.title(f'CrossTab of Actual vs Predicted {test_number}');"
      ],
      "execution_count": 42,
      "outputs": []
    },
    {
      "cell_type": "code",
      "metadata": {
        "colab": {
          "base_uri": "https://localhost:8080/"
        },
        "id": "4o-bjpxkH3Ya",
        "outputId": "54440b34-57c4-445c-ed05-55620c530364"
      },
      "source": [
        "y_predict = clf.predict(X_test)\n",
        "\n",
        "# accuracy\n",
        "accuracy = (y_predict == y_test).mean()\n",
        "print('Test Accuracy: {:.2f}'.format(accuracy))\n",
        "\n",
        "scores = cross_val_score(clf, X_train, y_train, scoring=\"accuracy\", cv=10)\n",
        "cv_score = scores.mean()\n",
        "print('Cross Validation Accuracy: {:.2f}'.format(cv_score))"
      ],
      "execution_count": 43,
      "outputs": [
        {
          "output_type": "stream",
          "text": [
            "Test Accuracy: 0.73\n",
            "Cross Validation Accuracy: 0.79\n"
          ],
          "name": "stdout"
        }
      ]
    },
    {
      "cell_type": "code",
      "metadata": {
        "colab": {
          "base_uri": "https://localhost:8080/",
          "height": 530
        },
        "id": "FBe2SJ-UH3Yb",
        "outputId": "b593a419-841a-4c1b-9816-050a245b0f90"
      },
      "source": [
        "# Confusion Matrix of the result\r\n",
        "confusion_matrix(y_test, y_predict)\r\n",
        "# Cross Tab Graph Test 1\r\n",
        "get_cross_tab_graph(y_test, y_predict, 'Test 1')"
      ],
      "execution_count": 44,
      "outputs": [
        {
          "output_type": "display_data",
          "data": {
            "image/png": "[encoded data removed]",
            "text/plain": [
              "<Figure size 842.4x595.44 with 1 Axes>"
            ]
          },
          "metadata": {
            "tags": []
          }
        }
      ]
    },
    {
      "cell_type": "markdown",
      "metadata": {
        "id": "JHNux236vx0F"
      },
      "source": [
        "### Test Case 2:\n",
        "- Use a greedy algorithm to find which features give the highest accuracy"
      ]
    },
    {
      "cell_type": "code",
      "metadata": {
        "colab": {
          "base_uri": "https://localhost:8080/"
        },
        "id": "RA5gOIy5tYBc",
        "outputId": "02b800f4-8344-4772-8cd3-7323ead99bee"
      },
      "source": [
        "# Convert to Numpy\r\n",
        "predictors =['age', 'anaemia', 'creatinine_phosphokinase', 'diabetes', 'platelets', 'sex', 'smoking', 'high_blood_pressure', 'serum_creatinine', 'ejection_fraction', 'serum_sodium']\r\n",
        "X = df[predictors].values\r\n",
        "y = (df['DEATH_EVENT']).values\r\n",
        "\r\n",
        "# Create training and test sets\r\n",
        "X_train, X_test, y_train, y_test = train_test_split(X, y, test_size=0.25, random_state=random_seed)\r\n",
        "\r\n",
        "remaining = list(range(X_train.shape[1]))\r\n",
        "selected = []\r\n",
        "i_min = 0\r\n",
        "n = 8\r\n",
        "\r\n",
        "while len(selected) < n:\r\n",
        "    # find the single features that works best in conjunction\r\n",
        "    # with the already selected features\r\n",
        "    best_acc = 0\r\n",
        "    for i in remaining:\r\n",
        "        temp_selected = selected.copy()\r\n",
        "        temp_selected.append(i)\r\n",
        "        X1 = X_train[:, temp_selected]\r\n",
        "        # compute the accuracy using 5-fold cross validation\r\n",
        "        scores = cross_val_score(DecisionTreeClassifier(max_depth=2), X1, y_train, scoring='accuracy', cv=5)\r\n",
        "        if(scores.mean() > best_acc):\r\n",
        "          best_acc = scores.mean()\r\n",
        "          i_min = i\r\n",
        "            \r\n",
        "    remaining.remove(i_min)\r\n",
        "    selected.append(i_min)\r\n",
        "    print('num features: {}; Accuracy: {:.2f}'.format(len(selected), best_acc))\r\n",
        "\r\n",
        "print(selected)"
      ],
      "execution_count": 45,
      "outputs": [
        {
          "output_type": "stream",
          "text": [
            "num features: 1; Accuracy: 0.75\n",
            "num features: 2; Accuracy: 0.77\n",
            "num features: 3; Accuracy: 0.77\n",
            "num features: 4; Accuracy: 0.77\n",
            "num features: 5; Accuracy: 0.77\n",
            "num features: 6; Accuracy: 0.77\n",
            "num features: 7; Accuracy: 0.77\n",
            "num features: 8; Accuracy: 0.77\n",
            "[8, 9, 1, 3, 4, 10, 6, 2]\n"
          ],
          "name": "stdout"
        }
      ]
    },
    {
      "cell_type": "markdown",
      "metadata": {
        "id": "n2_MuiQd1sIT"
      },
      "source": [
        "#### Which features were the best?\n",
        "Ejection Fraction and Serum Creatinine are the most impactful features.\n",
        "\n"
      ]
    },
    {
      "cell_type": "code",
      "metadata": {
        "colab": {
          "base_uri": "https://localhost:8080/",
          "height": 598
        },
        "id": "NIiA-JAc0Jke",
        "outputId": "92569613-56ba-48cc-91d0-2491a65c8503"
      },
      "source": [
        "# Convert to Numpy\n",
        "predictors =['ejection_fraction', 'serum_creatinine']\n",
        "X = df[predictors].values\n",
        "y = (df['DEATH_EVENT']).values\n",
        "\n",
        "# Create training and test sets\n",
        "X_train, X_test, y_train, y_test = train_test_split(X, y, test_size=0.25, random_state=random_seed)\n",
        "\n",
        "# Decision Tree Classification\n",
        "clf = DecisionTreeClassifier(max_depth=3, min_samples_leaf=10, random_state=random_seed)\n",
        "clf.fit(X_train, y_train)\n",
        "\n",
        "target_names = ['Survive', 'Death']\n",
        "dot_data = export_graphviz(clf, precision=2,\n",
        "                     feature_names=predictors,  \n",
        "                     proportion=True,\n",
        "                     class_names=target_names,  \n",
        "                     filled=True, rounded=True,  \n",
        "                     special_characters=True)\n",
        "\n",
        "# plot it\n",
        "graph = graphviz.Source(dot_data)  \n",
        "graph"
      ],
      "execution_count": 46,
      "outputs": [
        {
          "output_type": "execute_result",
          "data": {
            "text/plain": [
              "<graphviz.files.Source at 0x7fe4bc104790>"
            ],
            "image/svg+xml": "<?xml version=\"1.0\" encoding=\"UTF-8\" standalone=\"no\"?>\n<!DOCTYPE svg PUBLIC \"-//W3C//DTD SVG 1.1//EN\"\n \"http://www.w3.org/Graphics/SVG/1.1/DTD/svg11.dtd\">\n<!-- Generated by graphviz version 2.40.1 (20161225.0304)\n -->\n<!-- Title: Tree Pages: 1 -->\n<svg width=\"957pt\" height=\"433pt\"\n viewBox=\"0.00 0.00 957.00 433.00\" xmlns=\"http://www.w3.org/2000/svg\" xmlns:xlink=\"http://www.w3.org/1999/xlink\">\n<g id=\"graph0\" class=\"graph\" transform=\"scale(1 1) rotate(0) translate(4 429)\">\n<title>Tree</title>\n<polygon fill=\"#ffffff\" stroke=\"transparent\" points=\"-4,4 -4,-429 953,-429 953,4 -4,4\"/>\n<!-- 0 -->\n<g id=\"node1\" class=\"node\">\n<title>0</title>\n<path fill=\"#f1b991\" stroke=\"#000000\" d=\"M570,-425C570,-425 422,-425 422,-425 416,-425 410,-419 410,-413 410,-413 410,-354 410,-354 410,-348 416,-342 422,-342 422,-342 570,-342 570,-342 576,-342 582,-348 582,-354 582,-354 582,-413 582,-413 582,-419 576,-425 570,-425\"/>\n<text text-anchor=\"start\" x=\"418\" y=\"-409.8\" font-family=\"Helvetica,sans-Serif\" font-size=\"14.00\" fill=\"#000000\">serum_creatinine ≤ 1.81</text>\n<text text-anchor=\"start\" x=\"462.5\" y=\"-394.8\" font-family=\"Helvetica,sans-Serif\" font-size=\"14.00\" fill=\"#000000\">gini = 0.43</text>\n<text text-anchor=\"start\" x=\"435.5\" y=\"-379.8\" font-family=\"Helvetica,sans-Serif\" font-size=\"14.00\" fill=\"#000000\">samples = 100.0%</text>\n<text text-anchor=\"start\" x=\"434\" y=\"-364.8\" font-family=\"Helvetica,sans-Serif\" font-size=\"14.00\" fill=\"#000000\">value = [0.69, 0.31]</text>\n<text text-anchor=\"start\" x=\"446.5\" y=\"-349.8\" font-family=\"Helvetica,sans-Serif\" font-size=\"14.00\" fill=\"#000000\">class = Survive</text>\n</g>\n<!-- 1 -->\n<g id=\"node2\" class=\"node\">\n<title>1</title>\n<path fill=\"#eda572\" stroke=\"#000000\" d=\"M476,-306C476,-306 334,-306 334,-306 328,-306 322,-300 322,-294 322,-294 322,-235 322,-235 322,-229 328,-223 334,-223 334,-223 476,-223 476,-223 482,-223 488,-229 488,-235 488,-235 488,-294 488,-294 488,-300 482,-306 476,-306\"/>\n<text text-anchor=\"start\" x=\"330\" y=\"-290.8\" font-family=\"Helvetica,sans-Serif\" font-size=\"14.00\" fill=\"#000000\">ejection_fraction ≤ 32.5</text>\n<text text-anchor=\"start\" x=\"371.5\" y=\"-275.8\" font-family=\"Helvetica,sans-Serif\" font-size=\"14.00\" fill=\"#000000\">gini = 0.35</text>\n<text text-anchor=\"start\" x=\"349\" y=\"-260.8\" font-family=\"Helvetica,sans-Serif\" font-size=\"14.00\" fill=\"#000000\">samples = 83.5%</text>\n<text text-anchor=\"start\" x=\"343\" y=\"-245.8\" font-family=\"Helvetica,sans-Serif\" font-size=\"14.00\" fill=\"#000000\">value = [0.78, 0.22]</text>\n<text text-anchor=\"start\" x=\"355.5\" y=\"-230.8\" font-family=\"Helvetica,sans-Serif\" font-size=\"14.00\" fill=\"#000000\">class = Survive</text>\n</g>\n<!-- 0&#45;&gt;1 -->\n<g id=\"edge1\" class=\"edge\">\n<title>0&#45;&gt;1</title>\n<path fill=\"none\" stroke=\"#000000\" d=\"M464.1726,-341.8796C457.3543,-332.9633 450.0844,-323.4565 443.0579,-314.268\"/>\n<polygon fill=\"#000000\" stroke=\"#000000\" points=\"445.818,-312.1156 436.9632,-306.2981 440.2575,-316.3678 445.818,-312.1156\"/>\n<text text-anchor=\"middle\" x=\"433.6591\" y=\"-327.3788\" font-family=\"Helvetica,sans-Serif\" font-size=\"14.00\" fill=\"#000000\">True</text>\n</g>\n<!-- 8 -->\n<g id=\"node9\" class=\"node\">\n<title>8</title>\n<path fill=\"#82c1ef\" stroke=\"#000000\" d=\"M658,-306C658,-306 518,-306 518,-306 512,-306 506,-300 506,-294 506,-294 506,-235 506,-235 506,-229 512,-223 518,-223 518,-223 658,-223 658,-223 664,-223 670,-229 670,-235 670,-235 670,-294 670,-294 670,-300 664,-306 658,-306\"/>\n<text text-anchor=\"start\" x=\"514\" y=\"-290.8\" font-family=\"Helvetica,sans-Serif\" font-size=\"14.00\" fill=\"#000000\">serum_creatinine ≤ 2.0</text>\n<text text-anchor=\"start\" x=\"554.5\" y=\"-275.8\" font-family=\"Helvetica,sans-Serif\" font-size=\"14.00\" fill=\"#000000\">gini = 0.39</text>\n<text text-anchor=\"start\" x=\"532\" y=\"-260.8\" font-family=\"Helvetica,sans-Serif\" font-size=\"14.00\" fill=\"#000000\">samples = 16.5%</text>\n<text text-anchor=\"start\" x=\"526\" y=\"-245.8\" font-family=\"Helvetica,sans-Serif\" font-size=\"14.00\" fill=\"#000000\">value = [0.27, 0.73]</text>\n<text text-anchor=\"start\" x=\"543.5\" y=\"-230.8\" font-family=\"Helvetica,sans-Serif\" font-size=\"14.00\" fill=\"#000000\">class = Death</text>\n</g>\n<!-- 0&#45;&gt;8 -->\n<g id=\"edge8\" class=\"edge\">\n<title>0&#45;&gt;8</title>\n<path fill=\"none\" stroke=\"#000000\" d=\"M528.1771,-341.8796C535.0704,-332.9633 542.4202,-323.4565 549.5239,-314.268\"/>\n<polygon fill=\"#000000\" stroke=\"#000000\" points=\"552.3381,-316.3502 555.6855,-306.2981 546.8001,-312.0687 552.3381,-316.3502\"/>\n<text text-anchor=\"middle\" x=\"558.8587\" y=\"-327.3959\" font-family=\"Helvetica,sans-Serif\" font-size=\"14.00\" fill=\"#000000\">False</text>\n</g>\n<!-- 2 -->\n<g id=\"node3\" class=\"node\">\n<title>2</title>\n<path fill=\"#fcf1e9\" stroke=\"#000000\" d=\"M294,-187C294,-187 146,-187 146,-187 140,-187 134,-181 134,-175 134,-175 134,-116 134,-116 134,-110 140,-104 146,-104 146,-104 294,-104 294,-104 300,-104 306,-110 306,-116 306,-116 306,-175 306,-175 306,-181 300,-187 294,-187\"/>\n<text text-anchor=\"start\" x=\"142\" y=\"-171.8\" font-family=\"Helvetica,sans-Serif\" font-size=\"14.00\" fill=\"#000000\">serum_creatinine ≤ 0.95</text>\n<text text-anchor=\"start\" x=\"190.5\" y=\"-156.8\" font-family=\"Helvetica,sans-Serif\" font-size=\"14.00\" fill=\"#000000\">gini = 0.5</text>\n<text text-anchor=\"start\" x=\"164\" y=\"-141.8\" font-family=\"Helvetica,sans-Serif\" font-size=\"14.00\" fill=\"#000000\">samples = 22.8%</text>\n<text text-anchor=\"start\" x=\"158\" y=\"-126.8\" font-family=\"Helvetica,sans-Serif\" font-size=\"14.00\" fill=\"#000000\">value = [0.53, 0.47]</text>\n<text text-anchor=\"start\" x=\"170.5\" y=\"-111.8\" font-family=\"Helvetica,sans-Serif\" font-size=\"14.00\" fill=\"#000000\">class = Survive</text>\n</g>\n<!-- 1&#45;&gt;2 -->\n<g id=\"edge2\" class=\"edge\">\n<title>1&#45;&gt;2</title>\n<path fill=\"none\" stroke=\"#000000\" d=\"M340.296,-222.8796C325.0865,-213.0962 308.7718,-202.6019 293.2182,-192.5971\"/>\n<polygon fill=\"#000000\" stroke=\"#000000\" points=\"294.9713,-189.5632 284.6675,-187.0969 291.1843,-195.4505 294.9713,-189.5632\"/>\n</g>\n<!-- 5 -->\n<g id=\"node6\" class=\"node\">\n<title>5</title>\n<path fill=\"#e99457\" stroke=\"#000000\" d=\"M484,-187C484,-187 336,-187 336,-187 330,-187 324,-181 324,-175 324,-175 324,-116 324,-116 324,-110 330,-104 336,-104 336,-104 484,-104 484,-104 490,-104 496,-110 496,-116 496,-116 496,-175 496,-175 496,-181 490,-187 484,-187\"/>\n<text text-anchor=\"start\" x=\"332\" y=\"-171.8\" font-family=\"Helvetica,sans-Serif\" font-size=\"14.00\" fill=\"#000000\">serum_creatinine ≤ 0.95</text>\n<text text-anchor=\"start\" x=\"376.5\" y=\"-156.8\" font-family=\"Helvetica,sans-Serif\" font-size=\"14.00\" fill=\"#000000\">gini = 0.23</text>\n<text text-anchor=\"start\" x=\"354\" y=\"-141.8\" font-family=\"Helvetica,sans-Serif\" font-size=\"14.00\" fill=\"#000000\">samples = 60.7%</text>\n<text text-anchor=\"start\" x=\"348\" y=\"-126.8\" font-family=\"Helvetica,sans-Serif\" font-size=\"14.00\" fill=\"#000000\">value = [0.87, 0.13]</text>\n<text text-anchor=\"start\" x=\"360.5\" y=\"-111.8\" font-family=\"Helvetica,sans-Serif\" font-size=\"14.00\" fill=\"#000000\">class = Survive</text>\n</g>\n<!-- 1&#45;&gt;5 -->\n<g id=\"edge5\" class=\"edge\">\n<title>1&#45;&gt;5</title>\n<path fill=\"none\" stroke=\"#000000\" d=\"M406.7488,-222.8796C407.0931,-214.6838 407.4584,-205.9891 407.8151,-197.5013\"/>\n<polygon fill=\"#000000\" stroke=\"#000000\" points=\"411.3208,-197.4362 408.2438,-187.2981 404.327,-197.1423 411.3208,-197.4362\"/>\n</g>\n<!-- 3 -->\n<g id=\"node4\" class=\"node\">\n<title>3</title>\n<path fill=\"#eda774\" stroke=\"#000000\" d=\"M128,-68C128,-68 12,-68 12,-68 6,-68 0,-62 0,-56 0,-56 0,-12 0,-12 0,-6 6,0 12,0 12,0 128,0 128,0 134,0 140,-6 140,-12 140,-12 140,-56 140,-56 140,-62 134,-68 128,-68\"/>\n<text text-anchor=\"start\" x=\"36.5\" y=\"-52.8\" font-family=\"Helvetica,sans-Serif\" font-size=\"14.00\" fill=\"#000000\">gini = 0.36</text>\n<text text-anchor=\"start\" x=\"18\" y=\"-37.8\" font-family=\"Helvetica,sans-Serif\" font-size=\"14.00\" fill=\"#000000\">samples = 5.8%</text>\n<text text-anchor=\"start\" x=\"8\" y=\"-22.8\" font-family=\"Helvetica,sans-Serif\" font-size=\"14.00\" fill=\"#000000\">value = [0.77, 0.23]</text>\n<text text-anchor=\"start\" x=\"20.5\" y=\"-7.8\" font-family=\"Helvetica,sans-Serif\" font-size=\"14.00\" fill=\"#000000\">class = Survive</text>\n</g>\n<!-- 2&#45;&gt;3 -->\n<g id=\"edge3\" class=\"edge\">\n<title>2&#45;&gt;3</title>\n<path fill=\"none\" stroke=\"#000000\" d=\"M164.1455,-103.9815C151.1632,-94.3313 137.3606,-84.0714 124.4403,-74.4673\"/>\n<polygon fill=\"#000000\" stroke=\"#000000\" points=\"126.2083,-71.4204 116.0946,-68.2637 122.0322,-77.0384 126.2083,-71.4204\"/>\n</g>\n<!-- 4 -->\n<g id=\"node5\" class=\"node\">\n<title>4</title>\n<path fill=\"#d9ecfa\" stroke=\"#000000\" d=\"M286,-68C286,-68 170,-68 170,-68 164,-68 158,-62 158,-56 158,-56 158,-12 158,-12 158,-6 164,0 170,0 170,0 286,0 286,0 292,0 298,-6 298,-12 298,-12 298,-56 298,-56 298,-62 292,-68 286,-68\"/>\n<text text-anchor=\"start\" x=\"194.5\" y=\"-52.8\" font-family=\"Helvetica,sans-Serif\" font-size=\"14.00\" fill=\"#000000\">gini = 0.49</text>\n<text text-anchor=\"start\" x=\"172\" y=\"-37.8\" font-family=\"Helvetica,sans-Serif\" font-size=\"14.00\" fill=\"#000000\">samples = 17.0%</text>\n<text text-anchor=\"start\" x=\"166\" y=\"-22.8\" font-family=\"Helvetica,sans-Serif\" font-size=\"14.00\" fill=\"#000000\">value = [0.45, 0.55]</text>\n<text text-anchor=\"start\" x=\"183.5\" y=\"-7.8\" font-family=\"Helvetica,sans-Serif\" font-size=\"14.00\" fill=\"#000000\">class = Death</text>\n</g>\n<!-- 2&#45;&gt;4 -->\n<g id=\"edge4\" class=\"edge\">\n<title>2&#45;&gt;4</title>\n<path fill=\"none\" stroke=\"#000000\" d=\"M222.9789,-103.9815C223.579,-95.618 224.2119,-86.7965 224.8186,-78.3409\"/>\n<polygon fill=\"#000000\" stroke=\"#000000\" points=\"228.3169,-78.4885 225.5416,-68.2637 221.3349,-77.9875 228.3169,-78.4885\"/>\n</g>\n<!-- 6 -->\n<g id=\"node7\" class=\"node\">\n<title>6</title>\n<path fill=\"#e78b49\" stroke=\"#000000\" d=\"M460,-68C460,-68 344,-68 344,-68 338,-68 332,-62 332,-56 332,-56 332,-12 332,-12 332,-6 338,0 344,0 344,0 460,0 460,0 466,0 472,-6 472,-12 472,-12 472,-56 472,-56 472,-62 466,-68 460,-68\"/>\n<text text-anchor=\"start\" x=\"368.5\" y=\"-52.8\" font-family=\"Helvetica,sans-Serif\" font-size=\"14.00\" fill=\"#000000\">gini = 0.13</text>\n<text text-anchor=\"start\" x=\"346\" y=\"-37.8\" font-family=\"Helvetica,sans-Serif\" font-size=\"14.00\" fill=\"#000000\">samples = 24.6%</text>\n<text text-anchor=\"start\" x=\"340\" y=\"-22.8\" font-family=\"Helvetica,sans-Serif\" font-size=\"14.00\" fill=\"#000000\">value = [0.93, 0.07]</text>\n<text text-anchor=\"start\" x=\"352.5\" y=\"-7.8\" font-family=\"Helvetica,sans-Serif\" font-size=\"14.00\" fill=\"#000000\">class = Survive</text>\n</g>\n<!-- 5&#45;&gt;6 -->\n<g id=\"edge6\" class=\"edge\">\n<title>5&#45;&gt;6</title>\n<path fill=\"none\" stroke=\"#000000\" d=\"M407.0211,-103.9815C406.421,-95.618 405.7881,-86.7965 405.1814,-78.3409\"/>\n<polygon fill=\"#000000\" stroke=\"#000000\" points=\"408.6651,-77.9875 404.4584,-68.2637 401.6831,-78.4885 408.6651,-77.9875\"/>\n</g>\n<!-- 7 -->\n<g id=\"node8\" class=\"node\">\n<title>7</title>\n<path fill=\"#ea9b62\" stroke=\"#000000\" d=\"M618,-68C618,-68 502,-68 502,-68 496,-68 490,-62 490,-56 490,-56 490,-12 490,-12 490,-6 496,0 502,0 502,0 618,0 618,0 624,0 630,-6 630,-12 630,-12 630,-56 630,-56 630,-62 624,-68 618,-68\"/>\n<text text-anchor=\"start\" x=\"526.5\" y=\"-52.8\" font-family=\"Helvetica,sans-Serif\" font-size=\"14.00\" fill=\"#000000\">gini = 0.29</text>\n<text text-anchor=\"start\" x=\"504\" y=\"-37.8\" font-family=\"Helvetica,sans-Serif\" font-size=\"14.00\" fill=\"#000000\">samples = 36.2%</text>\n<text text-anchor=\"start\" x=\"498\" y=\"-22.8\" font-family=\"Helvetica,sans-Serif\" font-size=\"14.00\" fill=\"#000000\">value = [0.83, 0.17]</text>\n<text text-anchor=\"start\" x=\"510.5\" y=\"-7.8\" font-family=\"Helvetica,sans-Serif\" font-size=\"14.00\" fill=\"#000000\">class = Survive</text>\n</g>\n<!-- 5&#45;&gt;7 -->\n<g id=\"edge7\" class=\"edge\">\n<title>5&#45;&gt;7</title>\n<path fill=\"none\" stroke=\"#000000\" d=\"M465.8545,-103.9815C478.8368,-94.3313 492.6394,-84.0714 505.5597,-74.4673\"/>\n<polygon fill=\"#000000\" stroke=\"#000000\" points=\"507.9678,-77.0384 513.9054,-68.2637 503.7917,-71.4204 507.9678,-77.0384\"/>\n</g>\n<!-- 9 -->\n<g id=\"node10\" class=\"node\">\n<title>9</title>\n<path fill=\"#399de5\" stroke=\"#000000\" d=\"M633.5,-179.5C633.5,-179.5 534.5,-179.5 534.5,-179.5 528.5,-179.5 522.5,-173.5 522.5,-167.5 522.5,-167.5 522.5,-123.5 522.5,-123.5 522.5,-117.5 528.5,-111.5 534.5,-111.5 534.5,-111.5 633.5,-111.5 633.5,-111.5 639.5,-111.5 645.5,-117.5 645.5,-123.5 645.5,-123.5 645.5,-167.5 645.5,-167.5 645.5,-173.5 639.5,-179.5 633.5,-179.5\"/>\n<text text-anchor=\"start\" x=\"554.5\" y=\"-164.3\" font-family=\"Helvetica,sans-Serif\" font-size=\"14.00\" fill=\"#000000\">gini = 0.0</text>\n<text text-anchor=\"start\" x=\"532\" y=\"-149.3\" font-family=\"Helvetica,sans-Serif\" font-size=\"14.00\" fill=\"#000000\">samples = 4.9%</text>\n<text text-anchor=\"start\" x=\"530.5\" y=\"-134.3\" font-family=\"Helvetica,sans-Serif\" font-size=\"14.00\" fill=\"#000000\">value = [0.0, 1.0]</text>\n<text text-anchor=\"start\" x=\"539.5\" y=\"-119.3\" font-family=\"Helvetica,sans-Serif\" font-size=\"14.00\" fill=\"#000000\">class = Death</text>\n</g>\n<!-- 8&#45;&gt;9 -->\n<g id=\"edge9\" class=\"edge\">\n<title>8&#45;&gt;9</title>\n<path fill=\"none\" stroke=\"#000000\" d=\"M586.601,-222.8796C586.2425,-212.2134 585.8555,-200.7021 585.4925,-189.9015\"/>\n<polygon fill=\"#000000\" stroke=\"#000000\" points=\"588.9875,-189.6917 585.1534,-179.8149 581.9915,-189.9269 588.9875,-189.6917\"/>\n</g>\n<!-- 10 -->\n<g id=\"node11\" class=\"node\">\n<title>10</title>\n<path fill=\"#b5daf5\" stroke=\"#000000\" d=\"M818,-187C818,-187 676,-187 676,-187 670,-187 664,-181 664,-175 664,-175 664,-116 664,-116 664,-110 670,-104 676,-104 676,-104 818,-104 818,-104 824,-104 830,-110 830,-116 830,-116 830,-175 830,-175 830,-181 824,-187 818,-187\"/>\n<text text-anchor=\"start\" x=\"672\" y=\"-171.8\" font-family=\"Helvetica,sans-Serif\" font-size=\"14.00\" fill=\"#000000\">ejection_fraction ≤ 27.5</text>\n<text text-anchor=\"start\" x=\"713.5\" y=\"-156.8\" font-family=\"Helvetica,sans-Serif\" font-size=\"14.00\" fill=\"#000000\">gini = 0.47</text>\n<text text-anchor=\"start\" x=\"691\" y=\"-141.8\" font-family=\"Helvetica,sans-Serif\" font-size=\"14.00\" fill=\"#000000\">samples = 11.6%</text>\n<text text-anchor=\"start\" x=\"685\" y=\"-126.8\" font-family=\"Helvetica,sans-Serif\" font-size=\"14.00\" fill=\"#000000\">value = [0.38, 0.62]</text>\n<text text-anchor=\"start\" x=\"702.5\" y=\"-111.8\" font-family=\"Helvetica,sans-Serif\" font-size=\"14.00\" fill=\"#000000\">class = Death</text>\n</g>\n<!-- 8&#45;&gt;10 -->\n<g id=\"edge10\" class=\"edge\">\n<title>8&#45;&gt;10</title>\n<path fill=\"none\" stroke=\"#000000\" d=\"M643.6105,-222.8796C656.4403,-213.2774 670.1852,-202.9903 683.3286,-193.1534\"/>\n<polygon fill=\"#000000\" stroke=\"#000000\" points=\"685.5121,-195.891 691.4209,-187.0969 681.3177,-190.2868 685.5121,-195.891\"/>\n</g>\n<!-- 11 -->\n<g id=\"node12\" class=\"node\">\n<title>11</title>\n<path fill=\"#8ec7f0\" stroke=\"#000000\" d=\"M778.5,-68C778.5,-68 679.5,-68 679.5,-68 673.5,-68 667.5,-62 667.5,-56 667.5,-56 667.5,-12 667.5,-12 667.5,-6 673.5,0 679.5,0 679.5,0 778.5,0 778.5,0 784.5,0 790.5,-6 790.5,-12 790.5,-12 790.5,-56 790.5,-56 790.5,-62 784.5,-68 778.5,-68\"/>\n<text text-anchor=\"start\" x=\"695.5\" y=\"-52.8\" font-family=\"Helvetica,sans-Serif\" font-size=\"14.00\" fill=\"#000000\">gini = 0.42</text>\n<text text-anchor=\"start\" x=\"677\" y=\"-37.8\" font-family=\"Helvetica,sans-Serif\" font-size=\"14.00\" fill=\"#000000\">samples = 4.5%</text>\n<text text-anchor=\"start\" x=\"675.5\" y=\"-22.8\" font-family=\"Helvetica,sans-Serif\" font-size=\"14.00\" fill=\"#000000\">value = [0.3, 0.7]</text>\n<text text-anchor=\"start\" x=\"684.5\" y=\"-7.8\" font-family=\"Helvetica,sans-Serif\" font-size=\"14.00\" fill=\"#000000\">class = Death</text>\n</g>\n<!-- 10&#45;&gt;11 -->\n<g id=\"edge11\" class=\"edge\">\n<title>10&#45;&gt;11</title>\n<path fill=\"none\" stroke=\"#000000\" d=\"M740.2975,-103.9815C738.9473,-95.618 737.5232,-86.7965 736.1582,-78.3409\"/>\n<polygon fill=\"#000000\" stroke=\"#000000\" points=\"739.5804,-77.578 734.5314,-68.2637 732.6699,-78.6937 739.5804,-77.578\"/>\n</g>\n<!-- 12 -->\n<g id=\"node13\" class=\"node\">\n<title>12</title>\n<path fill=\"#d3e9f9\" stroke=\"#000000\" d=\"M937,-68C937,-68 821,-68 821,-68 815,-68 809,-62 809,-56 809,-56 809,-12 809,-12 809,-6 815,0 821,0 821,0 937,0 937,0 943,0 949,-6 949,-12 949,-12 949,-56 949,-56 949,-62 943,-68 937,-68\"/>\n<text text-anchor=\"start\" x=\"845.5\" y=\"-52.8\" font-family=\"Helvetica,sans-Serif\" font-size=\"14.00\" fill=\"#000000\">gini = 0.49</text>\n<text text-anchor=\"start\" x=\"827\" y=\"-37.8\" font-family=\"Helvetica,sans-Serif\" font-size=\"14.00\" fill=\"#000000\">samples = 7.1%</text>\n<text text-anchor=\"start\" x=\"817\" y=\"-22.8\" font-family=\"Helvetica,sans-Serif\" font-size=\"14.00\" fill=\"#000000\">value = [0.44, 0.56]</text>\n<text text-anchor=\"start\" x=\"834.5\" y=\"-7.8\" font-family=\"Helvetica,sans-Serif\" font-size=\"14.00\" fill=\"#000000\">class = Death</text>\n</g>\n<!-- 10&#45;&gt;12 -->\n<g id=\"edge12\" class=\"edge\">\n<title>10&#45;&gt;12</title>\n<path fill=\"none\" stroke=\"#000000\" d=\"M796.1519,-103.9815C807.4676,-94.4232 819.4913,-84.2668 830.7675,-74.7419\"/>\n<polygon fill=\"#000000\" stroke=\"#000000\" points=\"833.0559,-77.3904 838.4367,-68.2637 828.5388,-72.0429 833.0559,-77.3904\"/>\n</g>\n</g>\n</svg>\n"
          },
          "metadata": {
            "tags": []
          },
          "execution_count": 46
        }
      ]
    },
    {
      "cell_type": "code",
      "metadata": {
        "colab": {
          "base_uri": "https://localhost:8080/",
          "height": 212
        },
        "id": "cVPd1l7w_X0q",
        "outputId": "58e6d299-d69c-4fda-cc93-2a6eecb028fb"
      },
      "source": [
        "# Hist of DEATH_EVENT by predictors\r\n",
        "g = sns.pairplot(df, x_vars=predictors, y_vars=['DEATH_EVENT'], hue='DEATH_EVENT', kind='hist')\r\n",
        "g.fig.suptitle('Death Event by Predictors', y=1.05);"
      ],
      "execution_count": 47,
      "outputs": [
        {
          "output_type": "display_data",
          "data": {
            "image/png": "[encoded data removed]",
            "text/plain": [
              "<Figure size 454.8x180 with 2 Axes>"
            ]
          },
          "metadata": {
            "tags": []
          }
        }
      ]
    },
    {
      "cell_type": "markdown",
      "metadata": {
        "id": "0zauF8EFseC9"
      },
      "source": [
        "#### Get Prediction and Accuracy"
      ]
    },
    {
      "cell_type": "code",
      "metadata": {
        "colab": {
          "base_uri": "https://localhost:8080/"
        },
        "id": "Aw5EizZXNEuP",
        "outputId": "c3d2e397-6038-4fe9-fa4b-ed2ed2f84b49"
      },
      "source": [
        "clf.fit(X_train, y_train)\r\n",
        "y_predict = clf.predict(X_test)\r\n",
        "\r\n",
        "# accuracy\r\n",
        "accuracy = (y_predict == y_test).mean()\r\n",
        "print('Test Accuracy: {:.2f}'.format(accuracy))\r\n",
        "\r\n",
        "scores = cross_val_score(clf, X_train, y_train, scoring=\"accuracy\", cv=10)\r\n",
        "cv_score = scores.mean()\r\n",
        "print('Cross Validation Accuracy: {:.2f}'.format(cv_score))"
      ],
      "execution_count": 48,
      "outputs": [
        {
          "output_type": "stream",
          "text": [
            "Test Accuracy: 0.76\n",
            "Cross Validation Accuracy: 0.77\n"
          ],
          "name": "stdout"
        }
      ]
    },
    {
      "cell_type": "code",
      "metadata": {
        "colab": {
          "base_uri": "https://localhost:8080/",
          "height": 530
        },
        "id": "i4i7PutU9nXI",
        "outputId": "0b08a551-7e37-4555-c27c-3bcd3aebaea8"
      },
      "source": [
        "# Cross Tab Graph Test 3\r\n",
        "get_cross_tab_graph(y_test, y_predict, 'Test 2')"
      ],
      "execution_count": 49,
      "outputs": [
        {
          "output_type": "display_data",
          "data": {
            "image/png": "[encoded data removed]",
            "text/plain": [
              "<Figure size 842.4x595.44 with 1 Axes>"
            ]
          },
          "metadata": {
            "tags": []
          }
        }
      ]
    },
    {
      "cell_type": "markdown",
      "metadata": {
        "id": "ehDUTQtlNzM2"
      },
      "source": [
        "### Test Case 3:\n",
        "- Use GridSearch to fine tune hyperparameters\n",
        "- Use min_samples_split hyperparameter to keep leaf node from having small sample sizes"
      ]
    },
    {
      "cell_type": "code",
      "metadata": {
        "id": "BaFzVyetN5T_",
        "colab": {
          "base_uri": "https://localhost:8080/"
        },
        "outputId": "78c40389-15ee-4d43-cfce-16429f4f6779"
      },
      "source": [
        "parameters={'min_samples_split' : range(2, 10) ,'max_depth': range(2, 5)}\r\n",
        "\r\n",
        "clf=DecisionTreeClassifier()\r\n",
        "clf_grid = GridSearchCV(clf,parameters)\r\n",
        "clf_grid.fit(X_train, y_train)\r\n",
        "clf_grid.best_params_\r\n"
      ],
      "execution_count": 50,
      "outputs": [
        {
          "output_type": "execute_result",
          "data": {
            "text/plain": [
              "{'max_depth': 2, 'min_samples_split': 2}"
            ]
          },
          "metadata": {
            "tags": []
          },
          "execution_count": 50
        }
      ]
    },
    {
      "cell_type": "markdown",
      "metadata": {
        "id": "gaSTutUg4VlQ"
      },
      "source": [
        "Result\n",
        "- max_depth = 2\n",
        "- min_samples_split = 2"
      ]
    },
    {
      "cell_type": "code",
      "metadata": {
        "colab": {
          "base_uri": "https://localhost:8080/",
          "height": 440
        },
        "id": "Sq5DyqQdc3lP",
        "outputId": "8ff3e90f-5647-446b-9e3c-582d39dfde2d"
      },
      "source": [
        "# Use the the best parameters from Grid Search\r\n",
        "clf = DecisionTreeClassifier(max_depth=2, min_samples_split=2, random_state=random_seed)\r\n",
        "clf.fit(X_train, y_train)\r\n",
        "\r\n",
        "target_names = ['Survive', 'Death']\r\n",
        "dot_data = export_graphviz(clf, precision=2,\r\n",
        "                     feature_names=predictors,  \r\n",
        "                     proportion=True,\r\n",
        "                     class_names=target_names,  \r\n",
        "                     filled=True, rounded=True,  \r\n",
        "                     special_characters=True)\r\n",
        "\r\n",
        "# plot it\r\n",
        "graph = graphviz.Source(dot_data)  \r\n",
        "graph"
      ],
      "execution_count": 51,
      "outputs": [
        {
          "output_type": "execute_result",
          "data": {
            "text/plain": [
              "<graphviz.files.Source at 0x7fe4c41b7b90>"
            ],
            "image/svg+xml": "<?xml version=\"1.0\" encoding=\"UTF-8\" standalone=\"no\"?>\n<!DOCTYPE svg PUBLIC \"-//W3C//DTD SVG 1.1//EN\"\n \"http://www.w3.org/Graphics/SVG/1.1/DTD/svg11.dtd\">\n<!-- Generated by graphviz version 2.40.1 (20161225.0304)\n -->\n<!-- Title: Tree Pages: 1 -->\n<svg width=\"622pt\" height=\"314pt\"\n viewBox=\"0.00 0.00 622.00 314.00\" xmlns=\"http://www.w3.org/2000/svg\" xmlns:xlink=\"http://www.w3.org/1999/xlink\">\n<g id=\"graph0\" class=\"graph\" transform=\"scale(1 1) rotate(0) translate(4 310)\">\n<title>Tree</title>\n<polygon fill=\"#ffffff\" stroke=\"transparent\" points=\"-4,4 -4,-310 618,-310 618,4 -4,4\"/>\n<!-- 0 -->\n<g id=\"node1\" class=\"node\">\n<title>0</title>\n<path fill=\"#f1b991\" stroke=\"#000000\" d=\"M384,-306C384,-306 236,-306 236,-306 230,-306 224,-300 224,-294 224,-294 224,-235 224,-235 224,-229 230,-223 236,-223 236,-223 384,-223 384,-223 390,-223 396,-229 396,-235 396,-235 396,-294 396,-294 396,-300 390,-306 384,-306\"/>\n<text text-anchor=\"start\" x=\"232\" y=\"-290.8\" font-family=\"Helvetica,sans-Serif\" font-size=\"14.00\" fill=\"#000000\">serum_creatinine ≤ 1.81</text>\n<text text-anchor=\"start\" x=\"276.5\" y=\"-275.8\" font-family=\"Helvetica,sans-Serif\" font-size=\"14.00\" fill=\"#000000\">gini = 0.43</text>\n<text text-anchor=\"start\" x=\"249.5\" y=\"-260.8\" font-family=\"Helvetica,sans-Serif\" font-size=\"14.00\" fill=\"#000000\">samples = 100.0%</text>\n<text text-anchor=\"start\" x=\"248\" y=\"-245.8\" font-family=\"Helvetica,sans-Serif\" font-size=\"14.00\" fill=\"#000000\">value = [0.69, 0.31]</text>\n<text text-anchor=\"start\" x=\"260.5\" y=\"-230.8\" font-family=\"Helvetica,sans-Serif\" font-size=\"14.00\" fill=\"#000000\">class = Survive</text>\n</g>\n<!-- 1 -->\n<g id=\"node2\" class=\"node\">\n<title>1</title>\n<path fill=\"#eda572\" stroke=\"#000000\" d=\"M290,-187C290,-187 148,-187 148,-187 142,-187 136,-181 136,-175 136,-175 136,-116 136,-116 136,-110 142,-104 148,-104 148,-104 290,-104 290,-104 296,-104 302,-110 302,-116 302,-116 302,-175 302,-175 302,-181 296,-187 290,-187\"/>\n<text text-anchor=\"start\" x=\"144\" y=\"-171.8\" font-family=\"Helvetica,sans-Serif\" font-size=\"14.00\" fill=\"#000000\">ejection_fraction ≤ 32.5</text>\n<text text-anchor=\"start\" x=\"185.5\" y=\"-156.8\" font-family=\"Helvetica,sans-Serif\" font-size=\"14.00\" fill=\"#000000\">gini = 0.35</text>\n<text text-anchor=\"start\" x=\"163\" y=\"-141.8\" font-family=\"Helvetica,sans-Serif\" font-size=\"14.00\" fill=\"#000000\">samples = 83.5%</text>\n<text text-anchor=\"start\" x=\"157\" y=\"-126.8\" font-family=\"Helvetica,sans-Serif\" font-size=\"14.00\" fill=\"#000000\">value = [0.78, 0.22]</text>\n<text text-anchor=\"start\" x=\"169.5\" y=\"-111.8\" font-family=\"Helvetica,sans-Serif\" font-size=\"14.00\" fill=\"#000000\">class = Survive</text>\n</g>\n<!-- 0&#45;&gt;1 -->\n<g id=\"edge1\" class=\"edge\">\n<title>0&#45;&gt;1</title>\n<path fill=\"none\" stroke=\"#000000\" d=\"M278.1726,-222.8796C271.3543,-213.9633 264.0844,-204.4565 257.0579,-195.268\"/>\n<polygon fill=\"#000000\" stroke=\"#000000\" points=\"259.818,-193.1156 250.9632,-187.2981 254.2575,-197.3678 259.818,-193.1156\"/>\n<text text-anchor=\"middle\" x=\"247.6591\" y=\"-208.3788\" font-family=\"Helvetica,sans-Serif\" font-size=\"14.00\" fill=\"#000000\">True</text>\n</g>\n<!-- 4 -->\n<g id=\"node5\" class=\"node\">\n<title>4</title>\n<path fill=\"#82c1ef\" stroke=\"#000000\" d=\"M472,-187C472,-187 332,-187 332,-187 326,-187 320,-181 320,-175 320,-175 320,-116 320,-116 320,-110 326,-104 332,-104 332,-104 472,-104 472,-104 478,-104 484,-110 484,-116 484,-116 484,-175 484,-175 484,-181 478,-187 472,-187\"/>\n<text text-anchor=\"start\" x=\"328\" y=\"-171.8\" font-family=\"Helvetica,sans-Serif\" font-size=\"14.00\" fill=\"#000000\">serum_creatinine ≤ 2.0</text>\n<text text-anchor=\"start\" x=\"368.5\" y=\"-156.8\" font-family=\"Helvetica,sans-Serif\" font-size=\"14.00\" fill=\"#000000\">gini = 0.39</text>\n<text text-anchor=\"start\" x=\"346\" y=\"-141.8\" font-family=\"Helvetica,sans-Serif\" font-size=\"14.00\" fill=\"#000000\">samples = 16.5%</text>\n<text text-anchor=\"start\" x=\"340\" y=\"-126.8\" font-family=\"Helvetica,sans-Serif\" font-size=\"14.00\" fill=\"#000000\">value = [0.27, 0.73]</text>\n<text text-anchor=\"start\" x=\"357.5\" y=\"-111.8\" font-family=\"Helvetica,sans-Serif\" font-size=\"14.00\" fill=\"#000000\">class = Death</text>\n</g>\n<!-- 0&#45;&gt;4 -->\n<g id=\"edge4\" class=\"edge\">\n<title>0&#45;&gt;4</title>\n<path fill=\"none\" stroke=\"#000000\" d=\"M342.1771,-222.8796C349.0704,-213.9633 356.4202,-204.4565 363.5239,-195.268\"/>\n<polygon fill=\"#000000\" stroke=\"#000000\" points=\"366.3381,-197.3502 369.6855,-187.2981 360.8001,-193.0687 366.3381,-197.3502\"/>\n<text text-anchor=\"middle\" x=\"372.8587\" y=\"-208.3959\" font-family=\"Helvetica,sans-Serif\" font-size=\"14.00\" fill=\"#000000\">False</text>\n</g>\n<!-- 2 -->\n<g id=\"node3\" class=\"node\">\n<title>2</title>\n<path fill=\"#fcf1e9\" stroke=\"#000000\" d=\"M128,-68C128,-68 12,-68 12,-68 6,-68 0,-62 0,-56 0,-56 0,-12 0,-12 0,-6 6,0 12,0 12,0 128,0 128,0 134,0 140,-6 140,-12 140,-12 140,-56 140,-56 140,-62 134,-68 128,-68\"/>\n<text text-anchor=\"start\" x=\"40.5\" y=\"-52.8\" font-family=\"Helvetica,sans-Serif\" font-size=\"14.00\" fill=\"#000000\">gini = 0.5</text>\n<text text-anchor=\"start\" x=\"14\" y=\"-37.8\" font-family=\"Helvetica,sans-Serif\" font-size=\"14.00\" fill=\"#000000\">samples = 22.8%</text>\n<text text-anchor=\"start\" x=\"8\" y=\"-22.8\" font-family=\"Helvetica,sans-Serif\" font-size=\"14.00\" fill=\"#000000\">value = [0.53, 0.47]</text>\n<text text-anchor=\"start\" x=\"20.5\" y=\"-7.8\" font-family=\"Helvetica,sans-Serif\" font-size=\"14.00\" fill=\"#000000\">class = Survive</text>\n</g>\n<!-- 1&#45;&gt;2 -->\n<g id=\"edge2\" class=\"edge\">\n<title>1&#45;&gt;2</title>\n<path fill=\"none\" stroke=\"#000000\" d=\"M163.5179,-103.9815C150.6221,-94.3313 136.9116,-84.0714 124.0773,-74.4673\"/>\n<polygon fill=\"#000000\" stroke=\"#000000\" points=\"125.8908,-71.4528 115.7873,-68.2637 121.6968,-77.0574 125.8908,-71.4528\"/>\n</g>\n<!-- 3 -->\n<g id=\"node4\" class=\"node\">\n<title>3</title>\n<path fill=\"#e99457\" stroke=\"#000000\" d=\"M286,-68C286,-68 170,-68 170,-68 164,-68 158,-62 158,-56 158,-56 158,-12 158,-12 158,-6 164,0 170,0 170,0 286,0 286,0 292,0 298,-6 298,-12 298,-12 298,-56 298,-56 298,-62 292,-68 286,-68\"/>\n<text text-anchor=\"start\" x=\"194.5\" y=\"-52.8\" font-family=\"Helvetica,sans-Serif\" font-size=\"14.00\" fill=\"#000000\">gini = 0.23</text>\n<text text-anchor=\"start\" x=\"172\" y=\"-37.8\" font-family=\"Helvetica,sans-Serif\" font-size=\"14.00\" fill=\"#000000\">samples = 60.7%</text>\n<text text-anchor=\"start\" x=\"166\" y=\"-22.8\" font-family=\"Helvetica,sans-Serif\" font-size=\"14.00\" fill=\"#000000\">value = [0.87, 0.13]</text>\n<text text-anchor=\"start\" x=\"178.5\" y=\"-7.8\" font-family=\"Helvetica,sans-Serif\" font-size=\"14.00\" fill=\"#000000\">class = Survive</text>\n</g>\n<!-- 1&#45;&gt;3 -->\n<g id=\"edge3\" class=\"edge\">\n<title>1&#45;&gt;3</title>\n<path fill=\"none\" stroke=\"#000000\" d=\"M222.3513,-103.9815C223.0263,-95.618 223.7384,-86.7965 224.4209,-78.3409\"/>\n<polygon fill=\"#000000\" stroke=\"#000000\" points=\"227.9183,-78.5129 225.2343,-68.2637 220.941,-77.9496 227.9183,-78.5129\"/>\n</g>\n<!-- 5 -->\n<g id=\"node6\" class=\"node\">\n<title>5</title>\n<path fill=\"#399de5\" stroke=\"#000000\" d=\"M443.5,-68C443.5,-68 344.5,-68 344.5,-68 338.5,-68 332.5,-62 332.5,-56 332.5,-56 332.5,-12 332.5,-12 332.5,-6 338.5,0 344.5,0 344.5,0 443.5,0 443.5,0 449.5,0 455.5,-6 455.5,-12 455.5,-12 455.5,-56 455.5,-56 455.5,-62 449.5,-68 443.5,-68\"/>\n<text text-anchor=\"start\" x=\"364.5\" y=\"-52.8\" font-family=\"Helvetica,sans-Serif\" font-size=\"14.00\" fill=\"#000000\">gini = 0.0</text>\n<text text-anchor=\"start\" x=\"342\" y=\"-37.8\" font-family=\"Helvetica,sans-Serif\" font-size=\"14.00\" fill=\"#000000\">samples = 4.9%</text>\n<text text-anchor=\"start\" x=\"340.5\" y=\"-22.8\" font-family=\"Helvetica,sans-Serif\" font-size=\"14.00\" fill=\"#000000\">value = [0.0, 1.0]</text>\n<text text-anchor=\"start\" x=\"349.5\" y=\"-7.8\" font-family=\"Helvetica,sans-Serif\" font-size=\"14.00\" fill=\"#000000\">class = Death</text>\n</g>\n<!-- 4&#45;&gt;5 -->\n<g id=\"edge5\" class=\"edge\">\n<title>4&#45;&gt;5</title>\n<path fill=\"none\" stroke=\"#000000\" d=\"M399.0211,-103.9815C398.421,-95.618 397.7881,-86.7965 397.1814,-78.3409\"/>\n<polygon fill=\"#000000\" stroke=\"#000000\" points=\"400.6651,-77.9875 396.4584,-68.2637 393.6831,-78.4885 400.6651,-77.9875\"/>\n</g>\n<!-- 6 -->\n<g id=\"node7\" class=\"node\">\n<title>6</title>\n<path fill=\"#b5daf5\" stroke=\"#000000\" d=\"M602,-68C602,-68 486,-68 486,-68 480,-68 474,-62 474,-56 474,-56 474,-12 474,-12 474,-6 480,0 486,0 486,0 602,0 602,0 608,0 614,-6 614,-12 614,-12 614,-56 614,-56 614,-62 608,-68 602,-68\"/>\n<text text-anchor=\"start\" x=\"510.5\" y=\"-52.8\" font-family=\"Helvetica,sans-Serif\" font-size=\"14.00\" fill=\"#000000\">gini = 0.47</text>\n<text text-anchor=\"start\" x=\"488\" y=\"-37.8\" font-family=\"Helvetica,sans-Serif\" font-size=\"14.00\" fill=\"#000000\">samples = 11.6%</text>\n<text text-anchor=\"start\" x=\"482\" y=\"-22.8\" font-family=\"Helvetica,sans-Serif\" font-size=\"14.00\" fill=\"#000000\">value = [0.38, 0.62]</text>\n<text text-anchor=\"start\" x=\"499.5\" y=\"-7.8\" font-family=\"Helvetica,sans-Serif\" font-size=\"14.00\" fill=\"#000000\">class = Death</text>\n</g>\n<!-- 4&#45;&gt;6 -->\n<g id=\"edge6\" class=\"edge\">\n<title>4&#45;&gt;6</title>\n<path fill=\"none\" stroke=\"#000000\" d=\"M454.8756,-103.9815C467.1655,-94.3313 480.2319,-84.0714 492.4632,-74.4673\"/>\n<polygon fill=\"#000000\" stroke=\"#000000\" points=\"494.6602,-77.1923 500.3638,-68.2637 490.3371,-71.6867 494.6602,-77.1923\"/>\n</g>\n</g>\n</svg>\n"
          },
          "metadata": {
            "tags": []
          },
          "execution_count": 51
        }
      ]
    },
    {
      "cell_type": "markdown",
      "metadata": {
        "id": "H8UPhI4stvZ-"
      },
      "source": [
        "#### Get Prediction and Accuracy"
      ]
    },
    {
      "cell_type": "code",
      "metadata": {
        "colab": {
          "base_uri": "https://localhost:8080/"
        },
        "id": "XENQ5LDn2M2a",
        "outputId": "227c9f97-499b-4f8a-bd8c-6cc54ad870d6"
      },
      "source": [
        "# Get Predictions and Accuracy \n",
        "predictions = clf.predict(X_test)\n",
        "accuracy = (predictions == y_test).mean()\n",
        "print('Test Set Accuracy', accuracy.round(2))\n",
        "\n",
        "# Get Cross Validation Score\n",
        "scores = cross_val_score(clf, X_train, y_train, scoring=\"accuracy\", cv=10)\n",
        "cv_score = scores.mean()\n",
        "print('Cross Validation Accuracy: {:.2f}'.format(cv_score))"
      ],
      "execution_count": 52,
      "outputs": [
        {
          "output_type": "stream",
          "text": [
            "Test Set Accuracy 0.71\n",
            "Cross Validation Accuracy: 0.76\n"
          ],
          "name": "stdout"
        }
      ]
    },
    {
      "cell_type": "code",
      "metadata": {
        "colab": {
          "base_uri": "https://localhost:8080/",
          "height": 530
        },
        "id": "eu6My7WB96nM",
        "outputId": "7d10a547-41f3-413f-dba9-4fbf6b90b848"
      },
      "source": [
        "# Cross Tab Graph Test 3\r\n",
        "get_cross_tab_graph(y_test, predictions, 'Test 3')"
      ],
      "execution_count": 53,
      "outputs": [
        {
          "output_type": "display_data",
          "data": {
            "image/png": "[encoded data removed]",
            "text/plain": [
              "<Figure size 842.4x595.44 with 1 Axes>"
            ]
          },
          "metadata": {
            "tags": []
          }
        }
      ]
    },
    {
      "cell_type": "markdown",
      "metadata": {
        "id": "eeiLPQjhdYbk"
      },
      "source": [
        "## Final Model (Test Case 2)"
      ]
    },
    {
      "cell_type": "code",
      "metadata": {
        "colab": {
          "base_uri": "https://localhost:8080/"
        },
        "id": "mW12LUbGc2q0",
        "outputId": "029224e8-a7ec-497e-bfa3-607f2ebb8795"
      },
      "source": [
        "# Convert to Numpy\r\n",
        "predictors =['ejection_fraction', 'serum_creatinine']\r\n",
        "X = df[predictors].values\r\n",
        "y = (df['DEATH_EVENT']).values\r\n",
        "\r\n",
        "# Create training and test sets\r\n",
        "X_train, X_test, y_train, y_test = train_test_split(X, y, test_size=0.25, random_state=random_seed)\r\n",
        "\r\n",
        "# Decision Tree Classification\r\n",
        "clf = DecisionTreeClassifier(max_depth=3, min_samples_leaf=10, random_state=random_seed)\r\n",
        "clf.fit(X_train, y_train)"
      ],
      "execution_count": 54,
      "outputs": [
        {
          "output_type": "execute_result",
          "data": {
            "text/plain": [
              "DecisionTreeClassifier(ccp_alpha=0.0, class_weight=None, criterion='gini',\n",
              "                       max_depth=3, max_features=None, max_leaf_nodes=None,\n",
              "                       min_impurity_decrease=0.0, min_impurity_split=None,\n",
              "                       min_samples_leaf=10, min_samples_split=2,\n",
              "                       min_weight_fraction_leaf=0.0, presort='deprecated',\n",
              "                       random_state=0, splitter='best')"
            ]
          },
          "metadata": {
            "tags": []
          },
          "execution_count": 54
        }
      ]
    },
    {
      "cell_type": "code",
      "metadata": {
        "colab": {
          "base_uri": "https://localhost:8080/",
          "height": 600
        },
        "id": "lQ3YDptBk7du",
        "outputId": "3a84de59-d164-47e0-ffe1-2a87ef0d0284"
      },
      "source": [
        "### Validate the final model with max_depth\r\n",
        "from sklearn.model_selection import validation_curve\r\n",
        "# Setting the range for the paramter (from 1 to 10) \r\n",
        "parameter_range = np.arange(2,12) \r\n",
        "  \r\n",
        "# Calculate accuracy on training and test set using the  \r\n",
        "# gamma parameter with 10-fold cross validation \r\n",
        "train_score, test_score = validation_curve(DecisionTreeClassifier(min_samples_leaf=3, min_samples_split=20, random_state=random_seed), X, y, \r\n",
        "                                       param_name = \"max_depth\", \r\n",
        "                                       param_range = parameter_range, \r\n",
        "                                        cv = 10, scoring = \"accuracy\") \r\n",
        "  \r\n",
        "# Calculating mean and standard deviation of training score \r\n",
        "mean_train_score = np.mean(train_score, axis = 1) \r\n",
        "std_train_score = np.std(train_score, axis = 1) \r\n",
        "  \r\n",
        "# Calculating mean and standard deviation of testing score \r\n",
        "mean_test_score = np.mean(test_score, axis = 1) \r\n",
        "std_test_score = np.std(test_score, axis = 1) \r\n",
        "  \r\n",
        "# Plot mean accuracy scores for training and testing scores \r\n",
        "plt.plot(parameter_range, mean_train_score,  \r\n",
        "     label = \"Training Score\", color = 'b') \r\n",
        "plt.plot(parameter_range, mean_test_score, \r\n",
        "   label = \"Cross Validation Score\", color = 'g') \r\n",
        "  \r\n",
        "# Creating the plot \r\n",
        "plt.title(\"Validation Curve with DecisionTreeClassifier\") \r\n",
        "plt.yticks(np.arange(0.5,1.0, 0.05))\r\n",
        "plt.xlabel(\"Depth level\") \r\n",
        "plt.ylabel(\"Accuracy\") \r\n",
        "plt.tight_layout() \r\n",
        "plt.legend(loc = 'best') ;"
      ],
      "execution_count": 55,
      "outputs": [
        {
          "output_type": "display_data",
          "data": {
            "image/png": "[encoded data removed]",
            "text/plain": [
              "<Figure size 842.4x595.44 with 1 Axes>"
            ]
          },
          "metadata": {
            "tags": []
          }
        }
      ]
    },
    {
      "cell_type": "markdown",
      "metadata": {
        "id": "axcNYP22wgAt"
      },
      "source": [
        "## Test Cases"
      ]
    },
    {
      "cell_type": "code",
      "metadata": {
        "id": "pXrbu3vkwfgk"
      },
      "source": [
        "def get_percent_death(prediction):\n",
        "  return prediction[0][1] * 100\n"
      ],
      "execution_count": 56,
      "outputs": []
    },
    {
      "cell_type": "markdown",
      "metadata": {
        "id": "hmOpydpNxvy_"
      },
      "source": [
        "### Test Case 1:\n",
        "- Ejection Fraction: 35\n",
        "- Serum Creatinine: 0.5 "
      ]
    },
    {
      "cell_type": "code",
      "metadata": {
        "colab": {
          "base_uri": "https://localhost:8080/"
        },
        "id": "wTk8O1kmx4Gt",
        "outputId": "bd3776b8-a4ba-486a-a29b-7a93f1e69ab7"
      },
      "source": [
        "test1 = [[35, 0.5]]\n",
        "prediction1 = clf.predict_proba(test1)\n",
        "percent1 = get_percent_death(prediction1)\n",
        "\n",
        "print('{:.0f} Percent likehood of dying from heart disease'.format(percent1))"
      ],
      "execution_count": 57,
      "outputs": [
        {
          "output_type": "stream",
          "text": [
            "7 Percent likehood of dying from heart disease\n"
          ],
          "name": "stdout"
        }
      ]
    },
    {
      "cell_type": "markdown",
      "metadata": {
        "id": "OE5SMnMpxyzh"
      },
      "source": [
        "### Test Case 2:\n",
        "- Ejection Fraction: 25\n",
        "- Serum Creatinine: 2.5"
      ]
    },
    {
      "cell_type": "code",
      "metadata": {
        "colab": {
          "base_uri": "https://localhost:8080/"
        },
        "id": "9bvQQGtGxsx-",
        "outputId": "617295c9-9883-44d8-f8c9-6c59450790fc"
      },
      "source": [
        "test2 = [[25, 2.5]]\n",
        "prediction2 = clf.predict_proba(test2)\n",
        "percent2 = get_percent_death(prediction2)\n",
        "\n",
        "print('{:.0f} Percent likehood of dying from heart disease'.format(percent2))"
      ],
      "execution_count": 58,
      "outputs": [
        {
          "output_type": "stream",
          "text": [
            "70 Percent likehood of dying from heart disease\n"
          ],
          "name": "stdout"
        }
      ]
    },
    {
      "cell_type": "markdown",
      "metadata": {
        "id": "7gXA9qL17DPp"
      },
      "source": [
        "## Conclusion\n",
        "### Our Findings\n",
        "- Serum_creatinine and ejection_fraction were the most impactful features in terms of increasing the accuracy of our model.\n",
        "\n",
        "### Further Research\n",
        "- Our model has high variance, which indicates that it may be too flexible  \n",
        "- We need more data in order to close the gap between the test and training set accuracy "
      ]
    }
  ]
}